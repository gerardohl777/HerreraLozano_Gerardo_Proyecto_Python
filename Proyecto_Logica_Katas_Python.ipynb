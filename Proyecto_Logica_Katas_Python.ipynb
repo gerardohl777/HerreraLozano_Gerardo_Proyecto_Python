{
  "cells": [
    {
      "cell_type": "markdown",
      "metadata": {
        "id": "D10VEivUxNsu"
      },
      "source": [
        "# PROYECTO LÓGICA: Katas de Python"
      ]
    },
    {
      "cell_type": "markdown",
      "metadata": {
        "id": "66dTpF5vxNsx"
      },
      "source": [
        "### 1- Escribe una función que reciba una cadena de texto como parámetro y devuelva un diccionario con las frecuencias de cada letra en la cadena. Los espacios no deben ser considerados.\n"
      ]
    },
    {
      "cell_type": "code",
      "execution_count": null,
      "metadata": {
        "id": "eInuwqLixNsz"
      },
      "outputs": [],
      "source": [
        "def recibirTexto(cadena):\n",
        "    \"\"\"\n",
        "    Función que cuenta todas las letras de una cadena y nos dara un diccionario con la frecuencia de cada letra.\n",
        "    Args:\n",
        "        cadena(str): Cadena de texto dada como parametro.\n",
        "    Returns:\n",
        "        frecuencia de cada letra.\n",
        "    \"\"\"\n",
        "    frecuencia = {}\n",
        "    for letra in cadena.replace(\" \", \"\"):\n",
        "        letra = letra.lower()\n",
        "        frecuencia[letra] = frecuencia.get(letra, 0) + 1\n",
        "    return frecuencia\n",
        ""
      ]
    },
    {
      "cell_type": "code",
      "execution_count": null,
      "metadata": {
        "id": "9eU0J74XxNs3"
      },
      "outputs": [],
      "source": [
        "cadena = \"Hola que tal me llamo Gerardo\""
      ]
    },
    {
      "cell_type": "code",
      "execution_count": null,
      "metadata": {
        "id": "83IB0PzcxNs4",
        "outputId": "8bbad4d4-41b6-4d15-c8fb-3429fd242b28"
      },
      "outputs": [
        {
          "data": {
            "text/plain": [
              "{'h': 1,\n",
              " 'o': 3,\n",
              " 'l': 4,\n",
              " 'a': 4,\n",
              " 'q': 1,\n",
              " 'u': 1,\n",
              " 'e': 3,\n",
              " 't': 1,\n",
              " 'm': 2,\n",
              " 'g': 1,\n",
              " 'r': 2,\n",
              " 'd': 1}"
            ]
          },
          "execution_count": 51,
          "metadata": {},
          "output_type": "execute_result"
        }
      ],
      "source": [
        "recibirTexto(cadena)"
      ]
    },
    {
      "cell_type": "markdown",
      "metadata": {
        "id": "nUkNyA4YxNs6"
      },
      "source": [
        "### 2- Dada una lista de números, obtén una nueva lista con el doble de cada valor. Usa la función *map()*"
      ]
    },
    {
      "cell_type": "code",
      "execution_count": null,
      "metadata": {
        "id": "rdvcu2l5xNs6"
      },
      "outputs": [],
      "source": [
        "lista_1 = (1, 2, 3, 4, 5)\n",
        "\n",
        "def dobleValor (lista_1):\n",
        "    \"\"\"\n",
        "    Función que recibirá una lista de números, si no la recibe nos devolvera un ValuError.\n",
        "    Si la recibe, mos devolvera el resultado de la lista_1 con el doble de cada valor de la lista.\n",
        "    Args:\n",
        "        lista_1(int): lista de enteros dada como parametro.\n",
        "    Returns:\n",
        "        La lista_1 con el doble del valor para cada elemnto de la lista.\n",
        "    \"\"\"\n",
        "    if not lista_1:\n",
        "        raise ValueError(\"ERROR, su lista esta vacia.\")\n",
        "    else:\n",
        "        return lista_1 + lista_1\n",
        "resultado = list(map(dobleValor, lista_1))\n",
        "\n",
        "\n"
      ]
    },
    {
      "cell_type": "code",
      "execution_count": null,
      "metadata": {
        "id": "EZGWcIkDxNs8",
        "outputId": "f6aaaf3b-ead8-4c32-b010-ebfb617c4eff"
      },
      "outputs": [
        {
          "name": "stdout",
          "output_type": "stream",
          "text": [
            "[2, 4, 6, 8, 10]\n"
          ]
        }
      ],
      "source": [
        "lista_2 = resultado\n",
        "print(lista_2)"
      ]
    },
    {
      "cell_type": "markdown",
      "metadata": {
        "id": "T-wejSL_xNs9"
      },
      "source": [
        "### 3- Escribe una función que tome una lista de palabras y una palabra objetivo como parámetros. La función debe devolver una lista con todas las palabras de la lista original que contengan la palabra objetivo."
      ]
    },
    {
      "cell_type": "code",
      "execution_count": null,
      "metadata": {
        "id": "BUygpGwVxNs-"
      },
      "outputs": [],
      "source": [
        "def objetivo(lista1, palabra_obj):\n",
        "    \"\"\"\n",
        "    Función que recibirá una lista de palabras y una con una palabra objetivo, para que vaya añadiendo a una lista vacia\n",
        "    las palabras que coincidan.\n",
        "    Args:\n",
        "        lista1(list): lista de palabras.\n",
        "        palabra_obj(str): lista que contienen la palabra objetivo.\n",
        "        lista2(list): lista vacia donde se iran añadiendo las palabras que coincidan con la palabra objetivo\n",
        "    Returns:\n",
        "        La lista2 con las palabras que coincidan añadidas a ella.\n",
        "        str: Mensaje que nos indica que no hay coincidencias con ninguna palabra de la lista.\n",
        "    \"\"\"\n",
        "    lista2 = []\n",
        "    for palabra in lista1:\n",
        "        if palabra_obj in palabra:\n",
        "            lista2.append(palabra)\n",
        "    if not lista2:\n",
        "        return \"No coincide ningún elemento\"\n",
        "    return lista2"
      ]
    },
    {
      "cell_type": "code",
      "execution_count": null,
      "metadata": {
        "id": "ZqJ48EXxxNs_"
      },
      "outputs": [],
      "source": [
        "# Ejemplo de uso\n",
        "lista1 = [\"perro\", \"gato\", \"perezoso\", \"supermercado\", \"pajaro\", \"periodico\"]\n",
        "palabra_obj = \"per\""
      ]
    },
    {
      "cell_type": "code",
      "execution_count": null,
      "metadata": {
        "id": "aQxDgdeaxNtA",
        "outputId": "461dbfcc-eeec-4dd6-b28a-e65b9139cc64"
      },
      "outputs": [
        {
          "data": {
            "text/plain": [
              "['perro', 'perezoso', 'supermercado', 'periodico']"
            ]
          },
          "execution_count": 56,
          "metadata": {},
          "output_type": "execute_result"
        }
      ],
      "source": [
        "objetivo(lista1,palabra_obj)"
      ]
    },
    {
      "cell_type": "markdown",
      "metadata": {
        "id": "ZpT7-bqwxNtA"
      },
      "source": [
        "### 4- Genera una función que calcule la diferencia entre los valores de dos listas. Usa la función *map()*"
      ]
    },
    {
      "cell_type": "code",
      "execution_count": null,
      "metadata": {
        "id": "obiCzx9NxNtA"
      },
      "outputs": [],
      "source": [
        "def diferencia_lista(lista1, lista2):\n",
        "    \"\"\"\n",
        "    Función que calcula la diferencia entre los valores de dos listas.\n",
        "    Args:\n",
        "        lista1(int): primera lista de enteros.\n",
        "        lista2(int): segunda lista de enteros.\n",
        "    Returns:\n",
        "        Una lista con los valores de la resta de cada elemento de lista1 - lista2.\n",
        "    \"\"\"\n",
        "    if len(lista1) != len(lista2):\n",
        "        raise ValueError('Las listas deben tener la misma longitud')\n",
        "    diferencias = list(map(lambda x, y: x-y, lista1, lista2))\n",
        "\n",
        "    return diferencias"
      ]
    },
    {
      "cell_type": "code",
      "execution_count": null,
      "metadata": {
        "id": "rYueRqzVxNtB"
      },
      "outputs": [],
      "source": [
        "# Ejemplo de uso\n",
        "lista_a = [3, 5, 7, 8, 2, 12]\n",
        "lista_b = [9, 6, 8, 1, 32, 4]"
      ]
    },
    {
      "cell_type": "code",
      "execution_count": null,
      "metadata": {
        "id": "b6bTsn-dxNtB",
        "outputId": "ddd572f1-ebf7-454a-bf0a-2d6e5916553a"
      },
      "outputs": [
        {
          "name": "stdout",
          "output_type": "stream",
          "text": [
            "[-6, -1, -1, 7, -30, 8]\n"
          ]
        }
      ],
      "source": [
        "resultado = diferencia_lista(lista_a, lista_b)\n",
        "print(resultado)"
      ]
    },
    {
      "cell_type": "code",
      "execution_count": null,
      "metadata": {
        "id": "o7FeU-ncxNtB",
        "outputId": "e5c618ec-02ba-4eb5-958c-1c43ad5eb732"
      },
      "outputs": [
        {
          "ename": "ValueError",
          "evalue": "Las listas deben tener la misma longitud",
          "output_type": "error",
          "traceback": [
            "\u001b[1;31m---------------------------------------------------------------------------\u001b[0m",
            "\u001b[1;31mValueError\u001b[0m                                Traceback (most recent call last)",
            "Cell \u001b[1;32mIn[60], line 4\u001b[0m\n\u001b[0;32m      2\u001b[0m lista_a \u001b[38;5;241m=\u001b[39m [\u001b[38;5;241m3\u001b[39m, \u001b[38;5;241m5\u001b[39m, \u001b[38;5;241m7\u001b[39m, \u001b[38;5;241m8\u001b[39m, \u001b[38;5;241m2\u001b[39m, \u001b[38;5;241m12\u001b[39m]\n\u001b[0;32m      3\u001b[0m lista_b \u001b[38;5;241m=\u001b[39m [\u001b[38;5;241m9\u001b[39m, \u001b[38;5;241m6\u001b[39m, \u001b[38;5;241m8\u001b[39m, \u001b[38;5;241m1\u001b[39m, \u001b[38;5;241m32\u001b[39m]\n\u001b[1;32m----> 4\u001b[0m resultado \u001b[38;5;241m=\u001b[39m \u001b[43mdiferencia_lista\u001b[49m\u001b[43m(\u001b[49m\u001b[43mlista_a\u001b[49m\u001b[43m,\u001b[49m\u001b[43m \u001b[49m\u001b[43mlista_b\u001b[49m\u001b[43m)\u001b[49m\n\u001b[0;32m      5\u001b[0m \u001b[38;5;28mprint\u001b[39m(resultado)\n",
            "Cell \u001b[1;32mIn[57], line 11\u001b[0m, in \u001b[0;36mdiferencia_lista\u001b[1;34m(lista1, lista2)\u001b[0m\n\u001b[0;32m      2\u001b[0m \u001b[38;5;250m\u001b[39m\u001b[38;5;124;03m\"\"\"\u001b[39;00m\n\u001b[0;32m      3\u001b[0m \u001b[38;5;124;03mFunción que calcula la diferencia entre los valores de dos listas.\u001b[39;00m\n\u001b[0;32m      4\u001b[0m \u001b[38;5;124;03mArgs:\u001b[39;00m\n\u001b[1;32m   (...)\u001b[0m\n\u001b[0;32m      8\u001b[0m \u001b[38;5;124;03m    Una lista con los valores de la resta de cada elemento de lista1 - lista2.\u001b[39;00m\n\u001b[0;32m      9\u001b[0m \u001b[38;5;124;03m\"\"\"\u001b[39;00m\n\u001b[0;32m     10\u001b[0m \u001b[38;5;28;01mif\u001b[39;00m \u001b[38;5;28mlen\u001b[39m(lista1) \u001b[38;5;241m!=\u001b[39m \u001b[38;5;28mlen\u001b[39m(lista2):\n\u001b[1;32m---> 11\u001b[0m     \u001b[38;5;28;01mraise\u001b[39;00m \u001b[38;5;167;01mValueError\u001b[39;00m(\u001b[38;5;124m'\u001b[39m\u001b[38;5;124mLas listas deben tener la misma longitud\u001b[39m\u001b[38;5;124m'\u001b[39m)\n\u001b[0;32m     12\u001b[0m diferencias \u001b[38;5;241m=\u001b[39m \u001b[38;5;28mlist\u001b[39m(\u001b[38;5;28mmap\u001b[39m(\u001b[38;5;28;01mlambda\u001b[39;00m x, y: x\u001b[38;5;241m-\u001b[39my, lista1, lista2))\n\u001b[0;32m     14\u001b[0m \u001b[38;5;28;01mreturn\u001b[39;00m diferencias\n",
            "\u001b[1;31mValueError\u001b[0m: Las listas deben tener la misma longitud"
          ]
        }
      ],
      "source": [
        "# Ejemplo de uso erroneo\n",
        "lista_a = [3, 5, 7, 8, 2, 12]\n",
        "lista_b = [9, 6, 8, 1, 32]\n",
        "resultado = diferencia_lista(lista_a, lista_b)\n",
        "print(resultado)"
      ]
    },
    {
      "cell_type": "markdown",
      "metadata": {
        "id": "z8fkXfCWxNtC"
      },
      "source": [
        "### 5- Escribe una función que tome una lista de números como parámetro y un valor opcional nota_aprobado, que por defecto es 5. La función debe calcular la media de los números en la lista y determinar si la media es mayor o igual que nota aprobado. Si es así, el estado será \"aprobado\", de lo contrario, será \"suspenso\". La función debe devolver una tupla que contenga la media y el estado.\n"
      ]
    },
    {
      "cell_type": "code",
      "execution_count": null,
      "metadata": {
        "id": "czFC8EWRxNtC"
      },
      "outputs": [],
      "source": [
        "def saberNota(notas):\n",
        "    \"\"\"\n",
        "    Función que recibirá una lista de números en la que haremos la media de distintas notas que contenga\n",
        "    y nos dira si estamos aprobdos o suspensos.\n",
        "    Args:\n",
        "        notas(int): lista de enteros dada como parametro.\n",
        "    Returns:\n",
        "        Nos devolvera la nota media y un mensaje de 'aprobado' o 'suspenso' dependiendo de nuestro caso.\n",
        "    \"\"\"\n",
        "    media = round(sum(notas) / len(notas), 2)\n",
        "    if (media >= 5):\n",
        "        estado =\"Aprobado\"\n",
        "    else:\n",
        "        estado= \"Suspenso\"\n",
        "    return (media, estado)"
      ]
    },
    {
      "cell_type": "code",
      "execution_count": null,
      "metadata": {
        "id": "M4uTJtrRxNtC"
      },
      "outputs": [],
      "source": [
        "# Ejemplo de media aprobado\n",
        "notas = [5, 4, 7, 2, 8, 9]"
      ]
    },
    {
      "cell_type": "code",
      "execution_count": null,
      "metadata": {
        "id": "6WhLobXBxNtC",
        "outputId": "f67325f0-5c3c-483b-c751-e40ae85fc165"
      },
      "outputs": [
        {
          "data": {
            "text/plain": [
              "(5.83, 'Aprobado')"
            ]
          },
          "execution_count": 27,
          "metadata": {},
          "output_type": "execute_result"
        }
      ],
      "source": [
        "saberNota(notas)"
      ]
    },
    {
      "cell_type": "code",
      "execution_count": null,
      "metadata": {
        "id": "ZzM1kom8xNtC"
      },
      "outputs": [],
      "source": [
        "# Ejemplo de media suspensa\n",
        "notas2 = [3, 7, 2, 1, 4]"
      ]
    },
    {
      "cell_type": "code",
      "execution_count": null,
      "metadata": {
        "id": "YaPYOkDTxNtD",
        "outputId": "3e017bc2-14cd-452a-e571-725cccf0d418"
      },
      "outputs": [
        {
          "data": {
            "text/plain": [
              "(3.4, 'Suspenso')"
            ]
          },
          "execution_count": 29,
          "metadata": {},
          "output_type": "execute_result"
        }
      ],
      "source": [
        "saberNota(notas2)"
      ]
    },
    {
      "cell_type": "markdown",
      "metadata": {
        "id": "O2akB0rRxNtD"
      },
      "source": [
        "### 6- Escribe una función que calcule el factorial de un número de manera recursiva.\n"
      ]
    },
    {
      "cell_type": "code",
      "execution_count": null,
      "metadata": {
        "id": "3dROJ42YxNtD"
      },
      "outputs": [],
      "source": [
        "def factorial():\n",
        "    \"\"\"\n",
        "    Función que pedira al usuario introducir un número por teclado para calcular su factorial.\n",
        "    Args:\n",
        "        num(int): número que introducira el usuario por teclado.\n",
        "    Returns:\n",
        "        Nos devolvera un mensaje indicandonos el número escrito y el factorial de el mismo.\n",
        "    \"\"\"\n",
        "    num = int(input(\"Introduzca un número para calcular el factorial: \"))\n",
        "    factorial = 1\n",
        "    i= 1\n",
        "    while (i <= num):\n",
        "        factorial = factorial * i\n",
        "        i = i + 1\n",
        "    print(f\"El factorial de {num} es {factorial}\")"
      ]
    },
    {
      "cell_type": "code",
      "execution_count": null,
      "metadata": {
        "id": "9_eTPZqFxNtD",
        "outputId": "2b13861a-ae38-4e17-d405-5567d2f99a63"
      },
      "outputs": [
        {
          "name": "stdout",
          "output_type": "stream",
          "text": [
            "El factorial de 5 es 120\n"
          ]
        }
      ],
      "source": [
        "factorial()"
      ]
    },
    {
      "cell_type": "markdown",
      "metadata": {
        "id": "N__oSGRmxNtE"
      },
      "source": [
        "### 7- Genera una función que convierta una lista de tuplas a una lista de strings. Usa la función *map()*"
      ]
    },
    {
      "cell_type": "code",
      "execution_count": null,
      "metadata": {
        "id": "GxsMpq9txNtE"
      },
      "outputs": [],
      "source": [
        "def tuplasToStrings(lista_tuplas):\n",
        "    \"\"\"\n",
        "    Función que nos pide una lista de tuplas para convertirla a una lista de strings.\n",
        "    Args:\n",
        "        lista_tuplas(list): una lista donde cada elemento es una tupla.\n",
        "    Returns:\n",
        "        list_strings: una lista de strings donde cada string es una concatenación de los elementos de las tuplas.\n",
        "    \"\"\"\n",
        "    lista_strings = list(map(lambda x: \" \".join(map(str, x)), lista_tuplas))\n",
        "    return lista_strings"
      ]
    },
    {
      "cell_type": "code",
      "execution_count": null,
      "metadata": {
        "id": "dBOZJHn_xNtE"
      },
      "outputs": [],
      "source": [
        "lista_tuplas = [(1, \"Juan\"), (2, \"María\"), (3, \"Pedro\")]"
      ]
    },
    {
      "cell_type": "code",
      "execution_count": null,
      "metadata": {
        "id": "DOeJ-fauxNtE",
        "outputId": "57b7bc95-6afa-4854-d95a-eba5992db3f6"
      },
      "outputs": [
        {
          "data": {
            "text/plain": [
              "['1 Juan', '2 María', '3 Pedro']"
            ]
          },
          "execution_count": 38,
          "metadata": {},
          "output_type": "execute_result"
        }
      ],
      "source": [
        "tuplasToStrings(lista_tuplas)"
      ]
    },
    {
      "cell_type": "markdown",
      "metadata": {
        "id": "WjPlzymQxNtE"
      },
      "source": [
        "### 8- Escribe un programa que pida al usuario dos números e intente dividirlos. Si el usuario ingresa un valor no numérico o intenta dividir por cero, maneja esas excepciones de manera adecuada. Asegúrate de mostrar un mensaje indicando si la división fue exitosa o no."
      ]
    },
    {
      "cell_type": "code",
      "execution_count": null,
      "metadata": {
        "id": "2exUqRS9xNtF"
      },
      "outputs": [],
      "source": [
        "def divisionNumeros():\n",
        "    \"\"\"\n",
        "    Función que recibirá dos números del usuario para calcular el resultado de la división.\n",
        "    En este caso la conversión la realizamos después de comprobar si los dos números introducidos son números.\n",
        "    Controlamos que no se introduzca algo que no sea un número o si se intenda dividir por 0.\n",
        "    Args:\n",
        "        n1(int): primer número (Dividendo).\n",
        "        n2(int): segundo número (Divisor).\n",
        "    Returns:\n",
        "        Nos devolvera un mensaje con el resultado de la división de los dos números introducidos por el usuario.\n",
        "    \"\"\"\n",
        "    n1 = input(\"Ingrese el primer número (dividendo) : \")\n",
        "    n2 = input(\"Ingrese el segundo número (divisor): \")\n",
        "\n",
        "    if not n1.isdigit() or not n2.isdigit():\n",
        "        raise ValueError(\"ERROR: Esta intentado introducir un valor no númerico. \")\n",
        "    n1 = int(n1)\n",
        "    n2 = int(n2)\n",
        "    if (n2) == 0:\n",
        "        raise ZeroDivisionError(\"ERROR: Esta intentando dividir por 0. \")\n",
        "    else:\n",
        "        division = n1 / n2\n",
        "        return (f\"La división de {n1} y {n2} da como resultado: {division}\")\n",
        ""
      ]
    },
    {
      "cell_type": "code",
      "execution_count": null,
      "metadata": {
        "id": "SHU89ZnhxNtF",
        "outputId": "e7d39b33-b211-4b49-a01c-52e091272f37"
      },
      "outputs": [
        {
          "data": {
            "text/plain": [
              "'La división de 4 y 2 da como resultado: 2.0'"
            ]
          },
          "execution_count": 49,
          "metadata": {},
          "output_type": "execute_result"
        }
      ],
      "source": [
        "divisionNumeros()"
      ]
    },
    {
      "cell_type": "code",
      "execution_count": null,
      "metadata": {
        "id": "2At1_njyxNtF",
        "outputId": "646f28e9-0a4b-4794-a49a-3e71de52e944"
      },
      "outputs": [
        {
          "ename": "ValueError",
          "evalue": "ERROR: Esta intentado introducir un valor no númerico. ",
          "output_type": "error",
          "traceback": [
            "\u001b[1;31m---------------------------------------------------------------------------\u001b[0m",
            "\u001b[1;31mValueError\u001b[0m                                Traceback (most recent call last)",
            "Cell \u001b[1;32mIn[50], line 1\u001b[0m\n\u001b[1;32m----> 1\u001b[0m \u001b[43mdivisionNumeros\u001b[49m\u001b[43m(\u001b[49m\u001b[43m)\u001b[49m\n",
            "Cell \u001b[1;32mIn[48], line 6\u001b[0m, in \u001b[0;36mdivisionNumeros\u001b[1;34m()\u001b[0m\n\u001b[0;32m      3\u001b[0m n2 \u001b[38;5;241m=\u001b[39m \u001b[38;5;28minput\u001b[39m(\u001b[38;5;124m\"\u001b[39m\u001b[38;5;124mIngrese el segundo número (divisor): \u001b[39m\u001b[38;5;124m\"\u001b[39m)\n\u001b[0;32m      5\u001b[0m \u001b[38;5;28;01mif\u001b[39;00m \u001b[38;5;129;01mnot\u001b[39;00m n1\u001b[38;5;241m.\u001b[39misdigit() \u001b[38;5;129;01mor\u001b[39;00m \u001b[38;5;129;01mnot\u001b[39;00m n2\u001b[38;5;241m.\u001b[39misdigit():\n\u001b[1;32m----> 6\u001b[0m     \u001b[38;5;28;01mraise\u001b[39;00m \u001b[38;5;167;01mValueError\u001b[39;00m(\u001b[38;5;124m\"\u001b[39m\u001b[38;5;124mERROR: Esta intentado introducir un valor no númerico. \u001b[39m\u001b[38;5;124m\"\u001b[39m)\n\u001b[0;32m      7\u001b[0m n1 \u001b[38;5;241m=\u001b[39m \u001b[38;5;28mint\u001b[39m(n1)\n\u001b[0;32m      8\u001b[0m n2 \u001b[38;5;241m=\u001b[39m \u001b[38;5;28mint\u001b[39m(n2)\n",
            "\u001b[1;31mValueError\u001b[0m: ERROR: Esta intentado introducir un valor no númerico. "
          ]
        }
      ],
      "source": [
        "divisionNumeros()"
      ]
    },
    {
      "cell_type": "code",
      "execution_count": null,
      "metadata": {
        "id": "yuqQNbHGxNtF",
        "outputId": "b3472646-caab-4eaf-b8ed-bec995943b09"
      },
      "outputs": [
        {
          "ename": "ZeroDivisionError",
          "evalue": "ERROR: Esta intentando dividir por 0. ",
          "output_type": "error",
          "traceback": [
            "\u001b[1;31m---------------------------------------------------------------------------\u001b[0m",
            "\u001b[1;31mZeroDivisionError\u001b[0m                         Traceback (most recent call last)",
            "Cell \u001b[1;32mIn[51], line 1\u001b[0m\n\u001b[1;32m----> 1\u001b[0m \u001b[43mdivisionNumeros\u001b[49m\u001b[43m(\u001b[49m\u001b[43m)\u001b[49m\n",
            "Cell \u001b[1;32mIn[48], line 10\u001b[0m, in \u001b[0;36mdivisionNumeros\u001b[1;34m()\u001b[0m\n\u001b[0;32m      8\u001b[0m n2 \u001b[38;5;241m=\u001b[39m \u001b[38;5;28mint\u001b[39m(n2)\n\u001b[0;32m      9\u001b[0m \u001b[38;5;28;01mif\u001b[39;00m (n2) \u001b[38;5;241m==\u001b[39m \u001b[38;5;241m0\u001b[39m:\n\u001b[1;32m---> 10\u001b[0m     \u001b[38;5;28;01mraise\u001b[39;00m \u001b[38;5;167;01mZeroDivisionError\u001b[39;00m(\u001b[38;5;124m\"\u001b[39m\u001b[38;5;124mERROR: Esta intentando dividir por 0. \u001b[39m\u001b[38;5;124m\"\u001b[39m)\n\u001b[0;32m     11\u001b[0m \u001b[38;5;28;01melse\u001b[39;00m:\n\u001b[0;32m     12\u001b[0m     division \u001b[38;5;241m=\u001b[39m n1 \u001b[38;5;241m/\u001b[39m n2\n",
            "\u001b[1;31mZeroDivisionError\u001b[0m: ERROR: Esta intentando dividir por 0. "
          ]
        }
      ],
      "source": [
        "divisionNumeros()"
      ]
    },
    {
      "cell_type": "markdown",
      "metadata": {
        "id": "i0GStyukxNtG"
      },
      "source": [
        "### 9- Escribe una función que tome una lista de nombres de mascotas como parámetro y devuelva una nueva lista excluyendo ciertas mascotas prohibidas en España. La lista de mascotas a excluir es [\"Mapache\", \"Tigre\", \"Serpiente Pitón\", \"Cocodrilo\", \"Oso\"].Usa la función filter()"
      ]
    },
    {
      "cell_type": "code",
      "execution_count": null,
      "metadata": {
        "id": "Kl3s9-hZxNtG"
      },
      "outputs": [],
      "source": [
        "def mascotas(lista_animales):\n",
        "    \"\"\"\n",
        "    Función que recibirá por parametro una lista con nombres de animales, la cual si contiene alguno\n",
        "    de los animales que no están permitidos los excluira y nos devolvera una lista sin ellos.\n",
        "    Args:\n",
        "        lista_animales(str): lista que contiene nombre de animales.\n",
        "    Returns:\n",
        "        Nos devolvera una nueva lista con los nombres de los animales que contenia la lista original\n",
        "        y si están permitidos.\n",
        "    \"\"\"\n",
        "    mas_prohibidas = {\"Mapache\", \"Tigre\", \"Serpiente Pitón\", \"Cocodrilo\", \"Oso\"}\n",
        "    return list(filter(lambda mascota: mascota not in mas_prohibidas, lista_animales))"
      ]
    },
    {
      "cell_type": "code",
      "execution_count": null,
      "metadata": {
        "id": "Xis7VMT9xNtG"
      },
      "outputs": [],
      "source": [
        "lista_animales = [\"Perro\", \"Cocodrilo\", \"Gato\", \"Tigre\", \"Gorrión\", \"Serpiente Pitón\", \"Loro\", \"Oso\", \"Mapache\"]"
      ]
    },
    {
      "cell_type": "code",
      "execution_count": null,
      "metadata": {
        "id": "5b-gHG7DxNtG",
        "outputId": "d862a828-116f-46d1-c011-240f4b92c404"
      },
      "outputs": [
        {
          "data": {
            "text/plain": [
              "['Perro', 'Gato', 'Gorrión', 'Loro']"
            ]
          },
          "execution_count": 15,
          "metadata": {},
          "output_type": "execute_result"
        }
      ],
      "source": [
        "mascotas(lista_animales)"
      ]
    },
    {
      "cell_type": "markdown",
      "metadata": {
        "id": "bDoSiTkzxNtc"
      },
      "source": [
        "### 10- Escribe una función que reciba una lista de números y calcule su promedio. Si la lista está vacía, lanza una excepción personalizada y maneja el error adecuadamente.\n"
      ]
    },
    {
      "cell_type": "code",
      "execution_count": null,
      "metadata": {
        "id": "X9hjX5INxNtd"
      },
      "outputs": [],
      "source": [
        "def calcular_promedio(lista_num):\n",
        "    \"\"\"\n",
        "    Función que recibirá una lista de la cual nos devolvera su promedio, controlaremos que no\n",
        "    se nos de una lista vacia usando ValueError el cual nos indicara un mensaje de error.\n",
        "    Args:\n",
        "        lista_num(int): lista de números (Tiene que contener algo, no puede estar vacia)\n",
        "    Returns:\n",
        "        Nos devolvera un mensaje con la media de los números que se encuentren en la lista.\n",
        "    \"\"\"\n",
        "    if len(lista_num) == 0:\n",
        "        raise ValueError('La lista esta vacia')\n",
        "    else:\n",
        "        return sum(lista_num) / len(lista_num)"
      ]
    },
    {
      "cell_type": "code",
      "execution_count": null,
      "metadata": {
        "id": "d4fU-cSmxNte",
        "outputId": "8cbe92a2-17b6-4c11-c0c2-7cc000022577"
      },
      "outputs": [
        {
          "name": "stdout",
          "output_type": "stream",
          "text": [
            "El promedio de esta lista es 10.4\n"
          ]
        }
      ],
      "source": [
        "# Ejemplo de uso\n",
        "lista_num = [5, 7, 33, 5, 2]\n",
        "resultado = calcular_promedio(lista_num)\n",
        "print(f'El promedio de esta lista es {resultado}')"
      ]
    },
    {
      "cell_type": "code",
      "execution_count": null,
      "metadata": {
        "id": "znMAKq_QxNtg",
        "outputId": "c4cec401-16cb-4556-b67c-be96ec7db371"
      },
      "outputs": [
        {
          "ename": "ValueError",
          "evalue": "La lista esta vacia",
          "output_type": "error",
          "traceback": [
            "\u001b[1;31m---------------------------------------------------------------------------\u001b[0m",
            "\u001b[1;31mValueError\u001b[0m                                Traceback (most recent call last)",
            "Cell \u001b[1;32mIn[37], line 3\u001b[0m\n\u001b[0;32m      1\u001b[0m \u001b[38;5;66;03m# Ejemplo de uso erroneo\u001b[39;00m\n\u001b[0;32m      2\u001b[0m lista_num \u001b[38;5;241m=\u001b[39m []\n\u001b[1;32m----> 3\u001b[0m resultado \u001b[38;5;241m=\u001b[39m \u001b[43mcalcular_promedio\u001b[49m\u001b[43m(\u001b[49m\u001b[43mlista_num\u001b[49m\u001b[43m)\u001b[49m\n\u001b[0;32m      4\u001b[0m \u001b[38;5;28mprint\u001b[39m(\u001b[38;5;124mf\u001b[39m\u001b[38;5;124m'\u001b[39m\u001b[38;5;124mEl promedio de esta lista es \u001b[39m\u001b[38;5;132;01m{\u001b[39;00mresultado\u001b[38;5;132;01m}\u001b[39;00m\u001b[38;5;124m'\u001b[39m)\n",
            "Cell \u001b[1;32mIn[35], line 3\u001b[0m, in \u001b[0;36mcalcular_promedio\u001b[1;34m(lista_num)\u001b[0m\n\u001b[0;32m      1\u001b[0m \u001b[38;5;28;01mdef\u001b[39;00m \u001b[38;5;21mcalcular_promedio\u001b[39m(lista_num):\n\u001b[0;32m      2\u001b[0m     \u001b[38;5;28;01mif\u001b[39;00m \u001b[38;5;28mlen\u001b[39m(lista_num) \u001b[38;5;241m==\u001b[39m \u001b[38;5;241m0\u001b[39m:\n\u001b[1;32m----> 3\u001b[0m         \u001b[38;5;28;01mraise\u001b[39;00m \u001b[38;5;167;01mValueError\u001b[39;00m(\u001b[38;5;124m'\u001b[39m\u001b[38;5;124mLa lista esta vacia\u001b[39m\u001b[38;5;124m'\u001b[39m)\n\u001b[0;32m      4\u001b[0m     \u001b[38;5;28;01melse\u001b[39;00m:\n\u001b[0;32m      5\u001b[0m         \u001b[38;5;28;01mreturn\u001b[39;00m \u001b[38;5;28msum\u001b[39m(lista_num) \u001b[38;5;241m/\u001b[39m \u001b[38;5;28mlen\u001b[39m(lista_num)\n",
            "\u001b[1;31mValueError\u001b[0m: La lista esta vacia"
          ]
        }
      ],
      "source": [
        "# Ejemplo de uso erroneo\n",
        "lista_num = []\n",
        "resultado = calcular_promedio(lista_num)\n",
        "print(f'El promedio de esta lista es {resultado}')"
      ]
    },
    {
      "cell_type": "markdown",
      "metadata": {
        "id": "bnm1n9TLxNtg"
      },
      "source": [
        "### 11- Escribe un programa que pida al usuario que introduzca su edad. Si el usuario ingresa un valor no numérico o un valor fuera del rango esperado (por ejemplo, menor que 0 o mayor que 120, maneja las excepciones adecuadamente."
      ]
    },
    {
      "cell_type": "code",
      "execution_count": null,
      "metadata": {
        "id": "i8ZyW4zCxNth",
        "outputId": "2bd43312-87e0-413d-81c9-f809a159f8af"
      },
      "outputs": [
        {
          "name": "stdout",
          "output_type": "stream",
          "text": [
            "ERROR, valor fuera del rango esperado\n",
            "ERROR, tiene que introducir un valor númerico\n",
            "Gracias, su edad es: 22 años.\n"
          ]
        }
      ],
      "source": [
        "def edadUsuario():\n",
        "    \"\"\"\n",
        "    Función que pedira al usuario su edad, controlaremos por medio de mensajes de error que la edad no puede\n",
        "    ser menor a 0 o mayor que 120 y que no introduzca una letra o signo debe ser un número entero.\n",
        "    Args:\n",
        "        edad(int): número entero que introduzca el usuario.\n",
        "    Returns:\n",
        "        Nos devolvera un mensaje con la edad introducida por el usuario.\n",
        "    \"\"\"\n",
        "    while True:\n",
        "        try:\n",
        "            edad = int(input(\"Introduzca su edad por favor: \"))\n",
        "\n",
        "            if edad < 0 or edad > 120:\n",
        "                print(\"ERROR, valor fuera del rango esperado\")\n",
        "                continue\n",
        "            return edad\n",
        "\n",
        "        except ValueError:\n",
        "               print(\"ERROR, tiene que introducir un valor númerico\")\n",
        "\n",
        "edad_usuario = edadUsuario()\n",
        "print(f\"Gracias, su edad es: {edad_usuario} años.\")"
      ]
    },
    {
      "cell_type": "markdown",
      "metadata": {
        "id": "IfaOIE3pxNth"
      },
      "source": [
        "### 12- Genera una función que al recibir una frase devuelva una lista con la longitud de cada palabra. Usa la función *map()*"
      ]
    },
    {
      "cell_type": "code",
      "execution_count": null,
      "metadata": {
        "id": "P4-wTSehxNti"
      },
      "outputs": [],
      "source": [
        "def devolver_lista(frase):\n",
        "    \"\"\"\n",
        "    Función que nos devuelve una lista con la longitud de cada palabra de la frase que recibira.\n",
        "    Args:\n",
        "        frase(str): frase que recibe nuestra funcióm.\n",
        "    Returns:\n",
        "        Nos devolvera una lista con la longitud de cada palabra de la frase.\n",
        "    \"\"\"\n",
        "    palabras = frase.split()\n",
        "    longitudes = list(map(lambda x: len(x), palabras))\n",
        "    if len(frase) == 0:\n",
        "        raise ValueError('La lista esta vacia')\n",
        "    else:\n",
        "        return longitudes"
      ]
    },
    {
      "cell_type": "code",
      "execution_count": null,
      "metadata": {
        "id": "4p2Rj-cVxNti"
      },
      "outputs": [],
      "source": [
        "# Variables que vamos a usar\n",
        "frase_1 = 'El Madrid va a ganar la decimosexta'\n",
        "frase_2 = 'Marc Márquez ficha por Ducati'"
      ]
    },
    {
      "cell_type": "code",
      "execution_count": null,
      "metadata": {
        "id": "CgOh0qrsxNtj",
        "outputId": "650c1a76-5a71-405e-a667-10b1fe8728e9"
      },
      "outputs": [
        {
          "name": "stdout",
          "output_type": "stream",
          "text": [
            "La longitud de cada palabra en esta lista es: [2, 6, 2, 1, 5, 2, 11]\n",
            "La longitud de cada palabra en esta lista es: [4, 7, 5, 3, 6]\n"
          ]
        }
      ],
      "source": [
        "# Ejemplo de uso\n",
        "print (f'La longitud de cada palabra en esta lista es: {devolver_lista(frase_1)}')\n",
        "print (f'La longitud de cada palabra en esta lista es: {devolver_lista(frase_2)}')"
      ]
    },
    {
      "cell_type": "markdown",
      "metadata": {
        "id": "tEqB_wXPxNtj"
      },
      "source": [
        "### 13- Genera una función la cual, para un conjunto de caracteres, devuelva una lista de tuplas con cada letra en mayúsculas y minúsculas. Las letras no pueden estar repetidas .Usa la función *map()*"
      ]
    },
    {
      "cell_type": "code",
      "execution_count": null,
      "metadata": {
        "id": "tBd3h79vxNtj"
      },
      "outputs": [],
      "source": [
        "def listasMinMay(caracteres):\n",
        "    caracteres_unicos = list(set(caracteres.lower()))\n",
        "    return list(map(lambda c: (c.upper(), c.lower()), caracteres_unicos))\n"
      ]
    },
    {
      "cell_type": "code",
      "execution_count": null,
      "metadata": {
        "id": "-ulD35ClxNtk",
        "outputId": "930a90a9-3ae9-4bff-ba30-3272fc8bdcae"
      },
      "outputs": [
        {
          "name": "stdout",
          "output_type": "stream",
          "text": [
            "[('T', 't'), ('L', 'l'), ('N', 'n'), ('D', 'd'), ('R', 'r'), ('I', 'i'), ('C', 'c'), ('A', 'a'), ('O', 'o'), ('S', 's')]\n"
          ]
        }
      ],
      "source": [
        "resultado = listasMinMay(\"CristianoRonaldo\")\n",
        "print(resultado)"
      ]
    },
    {
      "cell_type": "markdown",
      "metadata": {
        "id": "EayutaeaxNtk"
      },
      "source": [
        "### 14- Crea una función que retorne las palabras de una lista de palabras que comience con una letra en especifico. Usa la función filter()\n"
      ]
    },
    {
      "cell_type": "code",
      "execution_count": null,
      "metadata": {
        "id": "91wkjlh0xNtk"
      },
      "outputs": [],
      "source": [
        "def palabrasLetEspec(lista1, letra_esp):\n",
        "    lista2 = list(filter(lambda letra: letra_esp in letra, lista1))\n",
        "    if not lista2:\n",
        "        return \"No hay coincidencias\"\n",
        "    return lista2"
      ]
    },
    {
      "cell_type": "code",
      "execution_count": null,
      "metadata": {
        "id": "tUl1nN3rxNtl"
      },
      "outputs": [],
      "source": [
        "lista1 = [\"Cristiano\", \"Messi\", \"Neymar\", \"Modric\", \"Ramos\"]\n",
        "letra_esp = \"o\""
      ]
    },
    {
      "cell_type": "code",
      "execution_count": null,
      "metadata": {
        "id": "PPUH2nXjxNtl",
        "outputId": "5caa7e62-d180-47f8-bccb-677e5454e43e"
      },
      "outputs": [
        {
          "name": "stdout",
          "output_type": "stream",
          "text": [
            "['Cristiano', 'Modric', 'Ramos']\n"
          ]
        }
      ],
      "source": [
        "print(palabrasLetEspec(lista1, letra_esp))"
      ]
    },
    {
      "cell_type": "markdown",
      "metadata": {
        "id": "zE1IAAefxNtl"
      },
      "source": [
        "### 15- Crea una función lambda que sume 3 a cada número de una lista dada.\n"
      ]
    },
    {
      "cell_type": "code",
      "execution_count": null,
      "metadata": {
        "id": "np93COBHxNtl"
      },
      "outputs": [],
      "source": [
        "x = [1, 2, 3, 4, 5, 6, 7]"
      ]
    },
    {
      "cell_type": "code",
      "execution_count": null,
      "metadata": {
        "id": "5AlJ6EE5xNtl",
        "outputId": "14e07798-f7b9-4400-8457-4d266c0cad37"
      },
      "outputs": [
        {
          "data": {
            "text/plain": [
              "[4, 5, 6, 7, 8, 9, 10]"
            ]
          },
          "execution_count": 62,
          "metadata": {},
          "output_type": "execute_result"
        }
      ],
      "source": [
        "funcion_lambda = lambda x: x + 3\n",
        "list(map(funcion_lambda, x))"
      ]
    },
    {
      "cell_type": "markdown",
      "metadata": {
        "id": "V7rAHEeCxNtm"
      },
      "source": [
        "### 16- Esribe una función que tome una cadena de texto y un número entero n como parámetros y devuelva una lista de todas las palabras que sean más largas que n. Usa la función *filter()*"
      ]
    },
    {
      "cell_type": "code",
      "execution_count": null,
      "metadata": {
        "id": "-94N7FSqxNtm"
      },
      "outputs": [],
      "source": [
        "def palabrasN(cadena, num):\n",
        "    \"\"\"\n",
        "    Función que nos devuelve las palabras de una cadena de caracteres que son más largas que el número dado.\n",
        "    Args:\n",
        "        cadena(str): frase que recibe nuestra funcióm.\n",
        "        num(int): número que recibe nuestra función para comparar con cada palabra de la cadena.\n",
        "    Returns:\n",
        "        Nos devolvera una lista con las palabras cuya longitud es mayor que el número que hayamos puesto..\n",
        "    \"\"\"\n",
        "    lista_palabras = cadena.split()\n",
        "    lista2 = list(filter(lambda palabra: len(palabra) > num, lista_palabras))\n",
        "    if not lista2:\n",
        "        return \"No hay palabras que sean más largas que el número dado\"\n",
        "    return lista2"
      ]
    },
    {
      "cell_type": "code",
      "execution_count": null,
      "metadata": {
        "id": "4J2uKpbIxNtn"
      },
      "outputs": [],
      "source": [
        "# Ejemplo de prueba\n",
        "lista = \"Hola este es un ejemplo de prueba\"\n",
        "num = 4"
      ]
    },
    {
      "cell_type": "code",
      "execution_count": null,
      "metadata": {
        "id": "WPU6kAoKxNtn",
        "outputId": "129b103a-1a7f-45d5-9b4b-b1f64184984a"
      },
      "outputs": [
        {
          "data": {
            "text/plain": [
              "['ejemplo', 'prueba']"
            ]
          },
          "execution_count": 84,
          "metadata": {},
          "output_type": "execute_result"
        }
      ],
      "source": [
        "palabrasN(lista, num)"
      ]
    },
    {
      "cell_type": "markdown",
      "metadata": {
        "id": "bdXTbWWNxNtn"
      },
      "source": [
        "### 17- Crea una función que tome una lista de dígitos y devuelva el número correspondiente. Por ejemplo, 5,7,2 corresponde al número quinientos setenta y dos 572. Usa la función *reduce()*"
      ]
    },
    {
      "cell_type": "code",
      "execution_count": null,
      "metadata": {
        "id": "DuqzJDlOxNto"
      },
      "outputs": [],
      "source": [
        "from functools import reduce"
      ]
    },
    {
      "cell_type": "code",
      "execution_count": null,
      "metadata": {
        "id": "viH_vGGUxNto"
      },
      "outputs": [],
      "source": [
        "def listaToNumber(lista_digitos):\n",
        "    numero_str = reduce(lambda x, y: str(x) + str(y), lista_digitos)\n",
        "    numero = int(numero_str)\n",
        "    return numero"
      ]
    },
    {
      "cell_type": "code",
      "execution_count": null,
      "metadata": {
        "id": "YTFamrnIxNto"
      },
      "outputs": [],
      "source": [
        "lista_digitos = [5, 7, 2]"
      ]
    },
    {
      "cell_type": "code",
      "execution_count": null,
      "metadata": {
        "id": "nec9ttTPxNtp",
        "outputId": "334d1b8f-90ed-4fd6-a53f-b20f93202db0"
      },
      "outputs": [
        {
          "data": {
            "text/plain": [
              "572"
            ]
          },
          "execution_count": 94,
          "metadata": {},
          "output_type": "execute_result"
        }
      ],
      "source": [
        "listaToNumber(lista_digitos)"
      ]
    },
    {
      "cell_type": "markdown",
      "metadata": {
        "id": "CFeBBPjaxNtp"
      },
      "source": [
        "### 18- Escribe un programa en Python que cree una lista de diccionarios que contenga información de estudiantes (nombre, edad, calificación) y use la función filter para extraer a los estudiantes con una calificación mayor o igual a 90. Usa la función filter()\n"
      ]
    },
    {
      "cell_type": "code",
      "execution_count": null,
      "metadata": {
        "id": "vi4RFzvXxNtp"
      },
      "outputs": [],
      "source": [
        "estudiantes = [\n",
        "    {'nombre': \"Ana\" , 'edad': 25, 'calificacion': 65},\n",
        "    {'nombre': \"Gerardo\" , 'edad': 22, 'calificacion': 95},\n",
        "    {'nombre': \"Antonio\" , 'edad': 26, 'calificacion': 65},\n",
        "    {'nombre': \"Jose\", 'edad': 21, 'calificacion': 90},\n",
        "    {'nombre': \"Laura\" , 'edad': 30, 'calificacion': 100}\n",
        "]\n",
        "\n",
        "def infoEstudiante():\n",
        "    estudiantes_destacados = list(filter(lambda estudiante: estudiante['calificacion'] >= 90, estudiantes))\n",
        "    return estudiantes_destacados\n"
      ]
    },
    {
      "cell_type": "code",
      "execution_count": null,
      "metadata": {
        "id": "Z96cOA4oxNtq",
        "outputId": "7b6e6746-256a-4d24-bf19-0469ab0daea5"
      },
      "outputs": [
        {
          "data": {
            "text/plain": [
              "[{'nombre': 'Gerardo', 'edad': 22, 'calificacion': 95},\n",
              " {'nombre': 'Jose', 'edad': 21, 'calificacion': 90},\n",
              " {'nombre': 'Laura', 'edad': 30, 'calificacion': 100}]"
            ]
          },
          "execution_count": 8,
          "metadata": {},
          "output_type": "execute_result"
        }
      ],
      "source": [
        "infoEstudiante()"
      ]
    },
    {
      "cell_type": "markdown",
      "metadata": {
        "id": "OAYx8LLUxNtq"
      },
      "source": [
        "### 19- Crea una función lambda que filtre los números impares de una lista dada."
      ]
    },
    {
      "cell_type": "code",
      "execution_count": null,
      "metadata": {
        "id": "ttk7S_CcxNtq"
      },
      "outputs": [],
      "source": [
        "import numpy as np\n",
        "lista_numeros = np.random.randint(1, 101, 11).tolist()"
      ]
    },
    {
      "cell_type": "code",
      "execution_count": null,
      "metadata": {
        "id": "hLJdRHJ9xNtq",
        "outputId": "83de68d3-08a8-42d7-a393-e1dfa272f2e8"
      },
      "outputs": [
        {
          "name": "stdout",
          "output_type": "stream",
          "text": [
            "[91, 20, 23, 77, 4, 24, 74, 77, 8, 4, 52]\n"
          ]
        }
      ],
      "source": [
        "print(lista_numeros)"
      ]
    },
    {
      "cell_type": "code",
      "execution_count": null,
      "metadata": {
        "id": "ZmyTcgz4xNtr"
      },
      "outputs": [],
      "source": [
        "filtrar_impares = list(filter(lambda i: i % 2 != 0, lista_numeros))"
      ]
    },
    {
      "cell_type": "code",
      "execution_count": null,
      "metadata": {
        "id": "sU1SHffkxNtr",
        "outputId": "0a704d24-3293-4fa0-dedb-bded235c3722"
      },
      "outputs": [
        {
          "data": {
            "text/plain": [
              "[91, 23, 77, 77]"
            ]
          },
          "execution_count": 111,
          "metadata": {},
          "output_type": "execute_result"
        }
      ],
      "source": [
        "filtrar_impares"
      ]
    },
    {
      "cell_type": "markdown",
      "metadata": {
        "id": "GCwMUMi_xNts"
      },
      "source": [
        "### 20- Para una lista con elementos tipo integer y string obtén una nueva lista sólo con los valores int. Usa la función *filter()*"
      ]
    },
    {
      "cell_type": "code",
      "execution_count": null,
      "metadata": {
        "id": "uPs19aD0xNts"
      },
      "outputs": [],
      "source": [
        "def listOnlyInt(lista):\n",
        "    lista2 = list(filter(lambda i: isinstance(i, int), lista))\n",
        "    return lista2"
      ]
    },
    {
      "cell_type": "code",
      "execution_count": null,
      "metadata": {
        "id": "sLKqYPMKxNtt"
      },
      "outputs": [],
      "source": [
        "# Ejemplo de uso\n",
        "lista = [1, \"Maria\", 2, \"Antonio\", 3, \"Jose\"]"
      ]
    },
    {
      "cell_type": "code",
      "execution_count": null,
      "metadata": {
        "id": "2kJbtdThxNtt",
        "outputId": "c1de1572-edd1-4f29-b8d4-8b13b21ea4ef"
      },
      "outputs": [
        {
          "data": {
            "text/plain": [
              "[1, 2, 3]"
            ]
          },
          "execution_count": 105,
          "metadata": {},
          "output_type": "execute_result"
        }
      ],
      "source": [
        "listOnlyInt(lista)"
      ]
    },
    {
      "cell_type": "markdown",
      "metadata": {
        "id": "Sx8XsoRRxNtt"
      },
      "source": [
        "### 21- Crea una función que calcule el cubo de un número dado mediante una función *lamda*"
      ]
    },
    {
      "cell_type": "code",
      "execution_count": null,
      "metadata": {
        "id": "qcO_309fxNtt"
      },
      "outputs": [],
      "source": [
        "def cuboNumero():\n",
        "    try:\n",
        "        num = int(input(\"Escriba el número del que quiera saber su resultado elevado al cubo: \"))\n",
        "        resultado_num = (lambda x: x**3) (num)\n",
        "        print(f\"El resultado de {num} elevado al cubo es: {resultado_num}\")\n",
        "\n",
        "    except ValueError:\n",
        "        print(\"ERROR, no ha introducido ningun número\")"
      ]
    },
    {
      "cell_type": "code",
      "execution_count": null,
      "metadata": {
        "id": "-fPkzK8ExNtu",
        "outputId": "9efe3316-9ee9-4dc7-bd9d-b15d125c0756"
      },
      "outputs": [
        {
          "name": "stdout",
          "output_type": "stream",
          "text": [
            "El resultado de 5 elevado al cubo es: 125\n"
          ]
        }
      ],
      "source": [
        "cuboNumero()"
      ]
    },
    {
      "cell_type": "code",
      "execution_count": null,
      "metadata": {
        "id": "Xpr8dLy8xNtu",
        "outputId": "530df95c-c3cb-4073-b457-4ff4dd2cd552"
      },
      "outputs": [
        {
          "name": "stdout",
          "output_type": "stream",
          "text": [
            "ERROR, no ha introducido ningun número\n"
          ]
        }
      ],
      "source": [
        "cuboNumero()"
      ]
    },
    {
      "cell_type": "markdown",
      "metadata": {
        "id": "D2qmY-RLxNtu"
      },
      "source": [
        "### 22- Dada una lista numérica, obtén el producto total de los valores de dicha lista.Usa la función *reduce() .*"
      ]
    },
    {
      "cell_type": "code",
      "execution_count": null,
      "metadata": {
        "id": "vPR_-v8_xNtu"
      },
      "outputs": [],
      "source": [
        "from functools import reduce"
      ]
    },
    {
      "cell_type": "code",
      "execution_count": null,
      "metadata": {
        "id": "rVZTWlbtxNtv"
      },
      "outputs": [],
      "source": [
        "list_numeros = list(np.random.randint(1, 41, 11))"
      ]
    },
    {
      "cell_type": "code",
      "execution_count": null,
      "metadata": {
        "id": "2fCBUiLixNtv",
        "outputId": "598b09f2-53af-44fd-fdb5-2109a8cea2b9"
      },
      "outputs": [
        {
          "name": "stdout",
          "output_type": "stream",
          "text": [
            "[np.int32(34), np.int32(29), np.int32(34), np.int32(39), np.int32(7), np.int32(4), np.int32(2), np.int32(12), np.int32(5), np.int32(16), np.int32(1)]\n"
          ]
        }
      ],
      "source": [
        "print(list_numeros)"
      ]
    },
    {
      "cell_type": "code",
      "execution_count": null,
      "metadata": {
        "id": "6rEbNrH8xNtw",
        "outputId": "2cbc1a55-bbda-4136-db3e-c8f7e1076f33"
      },
      "outputs": [
        {
          "name": "stderr",
          "output_type": "stream",
          "text": [
            "C:\\Users\\gerar\\AppData\\Local\\Temp\\ipykernel_32384\\2749135694.py:1: RuntimeWarning: overflow encountered in scalar multiply\n",
            "  producto_total = reduce(lambda x, y: x*y, list_numeros)\n"
          ]
        }
      ],
      "source": [
        "producto_total = reduce(lambda x, y: x*y, list_numeros)"
      ]
    },
    {
      "cell_type": "code",
      "execution_count": null,
      "metadata": {
        "id": "xbrqr34xxNtw",
        "outputId": "a5c02b71-25b6-49dd-e429-7b7bfbeb0058"
      },
      "outputs": [
        {
          "name": "stdout",
          "output_type": "stream",
          "text": [
            "1568282624\n"
          ]
        }
      ],
      "source": [
        "print(producto_total)"
      ]
    },
    {
      "cell_type": "markdown",
      "metadata": {
        "id": "kKvPLtL_xNtw"
      },
      "source": [
        "### 23- Concatena una lista de palabras.Usa la función *reduce() .*"
      ]
    },
    {
      "cell_type": "code",
      "execution_count": null,
      "metadata": {
        "id": "Fgzid8ZKxNtx"
      },
      "outputs": [],
      "source": [
        "from functools import reduce"
      ]
    },
    {
      "cell_type": "code",
      "execution_count": null,
      "metadata": {
        "id": "tYayjSVxxNtx"
      },
      "outputs": [],
      "source": [
        "def concLista(lista):\n",
        "    lista2 = reduce(lambda x, y: str(x) + \" \" + str(y), lista)\n",
        "    return lista2"
      ]
    },
    {
      "cell_type": "code",
      "execution_count": null,
      "metadata": {
        "id": "pIuAhRa0xNtx"
      },
      "outputs": [],
      "source": [
        "# Ejemplo\n",
        "lista = [\"Hola\", \"que\", \"tal\", \"estas\", \"yo\", \"estoy\", \"trabajando\"]"
      ]
    },
    {
      "cell_type": "code",
      "execution_count": null,
      "metadata": {
        "id": "Cq5sDcx_xNtx",
        "outputId": "01c7d7cd-962a-489a-f060-933cf8ec136b"
      },
      "outputs": [
        {
          "data": {
            "text/plain": [
              "'Hola que tal estas yo estoy trabajando'"
            ]
          },
          "execution_count": 118,
          "metadata": {},
          "output_type": "execute_result"
        }
      ],
      "source": [
        "concLista(lista)"
      ]
    },
    {
      "cell_type": "markdown",
      "metadata": {
        "id": "gB0fgVB-xNtx"
      },
      "source": [
        "### 24- Calcula la diferencia total en los valores de una lista. Usa la función *reduce()* .\n"
      ]
    },
    {
      "cell_type": "code",
      "execution_count": null,
      "metadata": {
        "id": "fRAuWjWhxNty"
      },
      "outputs": [],
      "source": [
        "from functools import reduce"
      ]
    },
    {
      "cell_type": "code",
      "execution_count": null,
      "metadata": {
        "id": "jXT4ccCNxNty"
      },
      "outputs": [],
      "source": [
        "def diferenciaTotal(listanum):\n",
        "    resultado_total = reduce(lambda x, y: x - y , listanum)\n",
        "    return resultado_total"
      ]
    },
    {
      "cell_type": "code",
      "execution_count": null,
      "metadata": {
        "id": "Ly1Nk6vSxNty"
      },
      "outputs": [],
      "source": [
        "listanum = [10, 2, 3, 1]"
      ]
    },
    {
      "cell_type": "code",
      "execution_count": null,
      "metadata": {
        "id": "lQWFXrhUxNty",
        "outputId": "ca49562e-f988-4932-a1e1-9715566a42b6"
      },
      "outputs": [
        {
          "data": {
            "text/plain": [
              "4"
            ]
          },
          "execution_count": 122,
          "metadata": {},
          "output_type": "execute_result"
        }
      ],
      "source": [
        "diferenciaTotal(listanum)"
      ]
    },
    {
      "cell_type": "markdown",
      "metadata": {
        "id": "luGb2esExNty"
      },
      "source": [
        "### 25- Crea una función que cuente el número de caracteres en una cadena de texto dada."
      ]
    },
    {
      "cell_type": "code",
      "execution_count": null,
      "metadata": {
        "id": "zYarFeKkxNtz"
      },
      "outputs": [],
      "source": [
        "def contCaracteres(cadena):\n",
        "    \"\"\"\n",
        "    Función que nos cuenta el número de caracteres de una cadena dada como parámetro.\n",
        "    Args:\n",
        "        cadena(str): cadena de texto dada como parametro a la función.\n",
        "    Returns:\n",
        "        Nos devolvera el número de caractéres de la cadena de texto que le demos el cual guardamos en la variable\n",
        "        \"contar_palabras\".\n",
        "    \"\"\"\n",
        "    contar_cadena = len(cadena)\n",
        "    return contar_cadena"
      ]
    },
    {
      "cell_type": "code",
      "execution_count": null,
      "metadata": {
        "id": "60qFZ2d1xNtz"
      },
      "outputs": [],
      "source": [
        "# Ejemplo de uso\n",
        "cadena = \"En esta cadena vamos a contar el numero de caracteres\""
      ]
    },
    {
      "cell_type": "code",
      "execution_count": null,
      "metadata": {
        "id": "yV0s4sLPxNtz",
        "outputId": "661f4424-4946-4db5-cb1f-53de3c15090f"
      },
      "outputs": [
        {
          "name": "stdout",
          "output_type": "stream",
          "text": [
            "El número de caracteres en esta cadena es: 53\n"
          ]
        }
      ],
      "source": [
        "print(f\"El número de caracteres en esta cadena es: {contCaracteres(cadena)}\")"
      ]
    },
    {
      "cell_type": "markdown",
      "metadata": {
        "id": "N5RNp16FxNt0"
      },
      "source": [
        "### 26- Crea una función lambda que calcule el resto de la división entre dos números dados."
      ]
    },
    {
      "cell_type": "code",
      "execution_count": null,
      "metadata": {
        "id": "xGDUqqSIxNt0"
      },
      "outputs": [],
      "source": [
        "resto = (lambda x, y: num1 % num2)"
      ]
    },
    {
      "cell_type": "code",
      "execution_count": null,
      "metadata": {
        "id": "cDx6VG6CxNt0"
      },
      "outputs": [],
      "source": [
        "# Ejemplo de uso\n",
        "num1 = 20\n",
        "num2 = 8"
      ]
    },
    {
      "cell_type": "code",
      "execution_count": null,
      "metadata": {
        "id": "z-38lj-FxNt1",
        "outputId": "c7723eb2-07a4-4c85-a6d7-cbe0923b2b8f"
      },
      "outputs": [
        {
          "name": "stdout",
          "output_type": "stream",
          "text": [
            "El resto de 20 dividido por 8 es: 4\n"
          ]
        }
      ],
      "source": [
        "print(f\"El resto de {num1} dividido por {num2} es: {resto(num1, num2)}\")"
      ]
    },
    {
      "cell_type": "markdown",
      "metadata": {
        "id": "8IpYJlPoxNt1"
      },
      "source": [
        "### 27- Crea una función que calcule el promedio de una lista de números.\n"
      ]
    },
    {
      "cell_type": "code",
      "execution_count": null,
      "metadata": {
        "id": "LWzBa4A3xNt1"
      },
      "outputs": [],
      "source": [
        "def promList(lista):\n",
        "    \"\"\"\n",
        "    Función que calcula el promedio de una lista de números.\n",
        "    Args:\n",
        "        lista(int): lista de números dada como parametro a la función.\n",
        "    Returns:\n",
        "        Nos devolvera un mensaje con el resultado del promedio de la lista dada.\n",
        "    \"\"\"\n",
        "    promedio_lista = round(sum(lista) / len(lista), 2)\n",
        "    return print(f\"El promedio de la lista de números dada es: {promedio_lista}\")"
      ]
    },
    {
      "cell_type": "code",
      "execution_count": null,
      "metadata": {
        "id": "R8BIc6nXxNt2"
      },
      "outputs": [],
      "source": [
        "lista = [4, 2, 7, 9, 22, 54]"
      ]
    },
    {
      "cell_type": "code",
      "execution_count": null,
      "metadata": {
        "id": "Ji6OjcM_xNt2",
        "outputId": "6a2b14f6-312e-42ec-d3a7-ea5bebdd3599"
      },
      "outputs": [
        {
          "name": "stdout",
          "output_type": "stream",
          "text": [
            "El promedio de la lista de números dada es: 16.33\n"
          ]
        }
      ],
      "source": [
        "promList(lista)"
      ]
    },
    {
      "cell_type": "markdown",
      "metadata": {
        "id": "b-6uspXmxNt2"
      },
      "source": [
        "### 28- Crea una función que busque y devuelva el primer elemento duplicado en una lista dada."
      ]
    },
    {
      "cell_type": "code",
      "execution_count": null,
      "metadata": {
        "id": "ZoNXerIlxNt3"
      },
      "outputs": [],
      "source": [
        "def elementoDuplicado(lista):\n",
        "    elemento_lista = set()\n",
        "    for elemento in lista:\n",
        "        if elemento in elemento_lista:\n",
        "            return elemento\n",
        "        elemento_lista.add(elemento)\n",
        "    if not elemento:\n",
        "        return \"No hay elementos duplicados en esta lista\""
      ]
    },
    {
      "cell_type": "code",
      "execution_count": null,
      "metadata": {
        "id": "z8UWY9L4xNt3"
      },
      "outputs": [],
      "source": [
        "lista = [\"fútbol\", \"baloncesto\", \"natación\", \"fútbol\", \"baloncesto\"]"
      ]
    },
    {
      "cell_type": "code",
      "execution_count": null,
      "metadata": {
        "id": "d-MpMPdAxNt3",
        "outputId": "2440ee9b-974f-4bf7-bd29-71892af28260"
      },
      "outputs": [
        {
          "data": {
            "text/plain": [
              "'fútbol'"
            ]
          },
          "execution_count": 125,
          "metadata": {},
          "output_type": "execute_result"
        }
      ],
      "source": [
        "elementoDuplicado(lista)"
      ]
    },
    {
      "cell_type": "markdown",
      "metadata": {
        "id": "IonyLSJ_xNt4"
      },
      "source": [
        "### 29- Crea una función que convierta una variable en una cadena de texto y enmascare todos los caracteres con el carácter '#', excepto los últimos cuatro."
      ]
    },
    {
      "cell_type": "code",
      "execution_count": null,
      "metadata": {
        "id": "uLRCeWOUxNt4"
      },
      "outputs": [],
      "source": [
        "def conversionCadenaTexto(variable):\n",
        "    cadena_texto = str(variable)\n",
        "    if len(cadena_texto) > 4:\n",
        "        enmascarar = \"#\" * (len(cadena_texto) - 4)\n",
        "        resultado = enmascarar + cadena_texto[-4:]\n",
        "    else:\n",
        "        resultado = cadena_texto\n",
        "\n",
        "    return resultado\n"
      ]
    },
    {
      "cell_type": "code",
      "execution_count": null,
      "metadata": {
        "id": "qKXhDZy3xNt4"
      },
      "outputs": [],
      "source": [
        "variable = \"Andalucía\""
      ]
    },
    {
      "cell_type": "code",
      "execution_count": null,
      "metadata": {
        "id": "v2ltaaR5xNt4",
        "outputId": "dd4ba852-2f33-4d01-cb34-6da9eee4ad70"
      },
      "outputs": [
        {
          "data": {
            "text/plain": [
              "'#####ucía'"
            ]
          },
          "execution_count": 144,
          "metadata": {},
          "output_type": "execute_result"
        }
      ],
      "source": [
        "conversionCadenaTexto(variable)"
      ]
    },
    {
      "cell_type": "markdown",
      "metadata": {
        "id": "BQi1VFZYxNt5"
      },
      "source": [
        "### 30- Crea una función que determine si dos palabras son anagramas, es decir, si están formadas por las mismas letras pero en diferente orden."
      ]
    },
    {
      "cell_type": "code",
      "execution_count": null,
      "metadata": {
        "id": "KCxGEIlbxNt5"
      },
      "outputs": [],
      "source": [
        "def esAnagrama(pal1, pal2):\n",
        "    \"\"\"\n",
        "    Función que tomara por parametros dos palabras para comprobar si son o no anagramas.\n",
        "    Args:\n",
        "        pal1(str): primera palabra.\n",
        "        pal2(str): segunda palabra.\n",
        "    Returns:\n",
        "        Nos devolvera un mensaje indicando si son anagramas o no son anagramas las dos palabras que le hemos dado.\n",
        "    \"\"\"\n",
        "    palabra1 = pal1.lower()\n",
        "    palabra2 = pal2.lower()\n",
        "    anagrama = sorted(palabra1) == sorted(palabra2)\n",
        "    if anagrama == True:\n",
        "        print(f\"Las palabras {pal1} y {pal2} son anagramas\")\n",
        "    else:\n",
        "        print(f\"Las palabras {pal1} y {pal2} no son anagramas\")"
      ]
    },
    {
      "cell_type": "code",
      "execution_count": null,
      "metadata": {
        "id": "8Cay_WPvxNt5"
      },
      "outputs": [],
      "source": [
        "# Ejemplo de anagrama\n",
        "pal1 = \"Brasil\"\n",
        "pal2 = \"Silbar\""
      ]
    },
    {
      "cell_type": "code",
      "execution_count": null,
      "metadata": {
        "id": "HlewHiLxxNt5",
        "outputId": "9914e4dc-83ec-4a65-c16e-eb2eb2789ef1"
      },
      "outputs": [
        {
          "name": "stdout",
          "output_type": "stream",
          "text": [
            "Las palabras Brasil y Silbar son anagramas\n"
          ]
        }
      ],
      "source": [
        "esAnagrama(pal1,pal2)"
      ]
    },
    {
      "cell_type": "code",
      "execution_count": null,
      "metadata": {
        "id": "45IGKCUixNt6"
      },
      "outputs": [],
      "source": [
        "# Ejemplo de palabras que no son anagramas\n",
        "pal1 = \"Brasil\"\n",
        "pal2 = \"fiesta\""
      ]
    },
    {
      "cell_type": "code",
      "execution_count": null,
      "metadata": {
        "id": "m96-v-CcxNt6",
        "outputId": "5f3bfcbe-643a-49c4-e55e-532f07ecf3cb"
      },
      "outputs": [
        {
          "name": "stdout",
          "output_type": "stream",
          "text": [
            "Las palabras Brasil y fiesta no son anagramas\n"
          ]
        }
      ],
      "source": [
        "esAnagrama(pal1,pal2)"
      ]
    },
    {
      "cell_type": "markdown",
      "metadata": {
        "id": "rhVSYfFBxNt6"
      },
      "source": [
        "### 31- Crea una función que solicite al usuario ingresar una lista de nombres y luego solicite un nombre para buscar en esa lista. Si el nombre está en la lista, se imprime un mensaje indicando que fue encontrado, de lo contrario, se lanza una excepción.\n"
      ]
    },
    {
      "cell_type": "code",
      "execution_count": null,
      "metadata": {
        "id": "GSsZ7mbxxNt7"
      },
      "outputs": [],
      "source": [
        "def listaNombres(nombres):\n",
        "    \"\"\"\n",
        "    Función que pedira al usuario un nombre el cual comprobara si se encuentra en la lista que le da el usuario\n",
        "    y si se encuentra en ella lo sabremos por un mensaje, si no lo esta nos saltara una excepción.\n",
        "    Args:\n",
        "        nombres(list): nombre que introduce el usuario por teclado para comprobar si se encuentra en la lista.\n",
        "    Returns:\n",
        "        str: Nos devolvera un mensaje confirmando si el nombre se encuentra en la lista\n",
        "        Excepcion: Se lanza un ValueError si el nombre no se encuentra en la lista.\n",
        "    \"\"\"\n",
        "    buscar_nombre = input(\"Introduzca el nombre que quiere comprobar si se encuentra en la lista: : \")\n",
        "    nombres_lower= [nombre.lower() for nombre in nombres]\n",
        "\n",
        "    if buscar_nombre.lower() in nombres_lower:\n",
        "        print(f\"{buscar_nombre} se encuentra en la lista\")\n",
        "    else:\n",
        "        raise ValueError(\"Error, el nombre no se encuentra en la lista\")"
      ]
    },
    {
      "cell_type": "code",
      "execution_count": null,
      "metadata": {
        "id": "gDlC8JrbxNt7"
      },
      "outputs": [],
      "source": [
        "nombres = [\"Gerardo\", \"Jose\", \"Manuel\", \"Maria\", \"Cristina\", \"Matias\"]\n"
      ]
    },
    {
      "cell_type": "code",
      "execution_count": null,
      "metadata": {
        "id": "5JYuWmaYxNt7",
        "outputId": "8b2e010f-e613-4f9e-d7d9-fac63bbd68f1"
      },
      "outputs": [
        {
          "name": "stdout",
          "output_type": "stream",
          "text": [
            "Manuel se encuentra en la lista\n"
          ]
        }
      ],
      "source": [
        "# Ejemplo de uso\n",
        "listaNombres(nombres)"
      ]
    },
    {
      "cell_type": "code",
      "execution_count": null,
      "metadata": {
        "id": "xM48IYbfxNt7",
        "outputId": "7b150db3-b7c3-4d6f-ad2f-14cfa0121269"
      },
      "outputs": [
        {
          "ename": "ValueError",
          "evalue": "Error, el nombre no se encuentra en la lista",
          "output_type": "error",
          "traceback": [
            "\u001b[1;31m---------------------------------------------------------------------------\u001b[0m",
            "\u001b[1;31mValueError\u001b[0m                                Traceback (most recent call last)",
            "Cell \u001b[1;32mIn[47], line 2\u001b[0m\n\u001b[0;32m      1\u001b[0m \u001b[38;5;66;03m# Ejemplo de uso erroneo\u001b[39;00m\n\u001b[1;32m----> 2\u001b[0m \u001b[43mlistaNombres\u001b[49m\u001b[43m(\u001b[49m\u001b[43mnombres\u001b[49m\u001b[43m)\u001b[49m\n",
            "Cell \u001b[1;32mIn[43], line 8\u001b[0m, in \u001b[0;36mlistaNombres\u001b[1;34m(nombres)\u001b[0m\n\u001b[0;32m      6\u001b[0m     \u001b[38;5;28mprint\u001b[39m(\u001b[38;5;124mf\u001b[39m\u001b[38;5;124m\"\u001b[39m\u001b[38;5;132;01m{\u001b[39;00mbuscar_nombre\u001b[38;5;132;01m}\u001b[39;00m\u001b[38;5;124m se encuentra en la lista\u001b[39m\u001b[38;5;124m\"\u001b[39m)\n\u001b[0;32m      7\u001b[0m \u001b[38;5;28;01melse\u001b[39;00m:    \n\u001b[1;32m----> 8\u001b[0m     \u001b[38;5;28;01mraise\u001b[39;00m \u001b[38;5;167;01mValueError\u001b[39;00m(\u001b[38;5;124m\"\u001b[39m\u001b[38;5;124mError, el nombre no se encuentra en la lista\u001b[39m\u001b[38;5;124m\"\u001b[39m)\n",
            "\u001b[1;31mValueError\u001b[0m: Error, el nombre no se encuentra en la lista"
          ]
        }
      ],
      "source": [
        "# Ejemplo de uso erroneo\n",
        "listaNombres(nombres)"
      ]
    },
    {
      "cell_type": "markdown",
      "metadata": {
        "id": "-K-xBu1AxNt7"
      },
      "source": [
        "### 32- Crea una función que tome un nombre completo y una lista de empleados, busque el nombre completo en la lista y devuelve el puesto del empleado si está en la lista, de lo contrario, devuelve un mensaje indicando que la persona no trabaja aquí.\n"
      ]
    },
    {
      "cell_type": "code",
      "execution_count": null,
      "metadata": {
        "id": "IaPNsaksxNt7"
      },
      "outputs": [],
      "source": [
        "def buscar_empleado(nombre_completo, lista_empleados):\n",
        "    for empleado in lista_empleados:\n",
        "        if empleado[\"nombre\"] == nombre_completo:\n",
        "            return empleado[\"puesto\"]\n",
        "    return \"La persona que está buscando no trabaja aquí.\""
      ]
    },
    {
      "cell_type": "code",
      "execution_count": null,
      "metadata": {
        "id": "71rSrvH5xNt7"
      },
      "outputs": [],
      "source": [
        "empleados = [\n",
        "    {\"nombre\": \"Juan Perez\", \"puesto\": \"Gerente\"},\n",
        "    {\"nombre\": \"Maria Lopez\", \"puesto\": \"Desarrolladora\"},\n",
        "    {\"nombre\": \"Carlos Gomez\", \"puesto\": \"Analista\"}\n",
        "]"
      ]
    },
    {
      "cell_type": "code",
      "execution_count": null,
      "metadata": {
        "id": "oSDTcZ9oxNt8",
        "outputId": "00bb23ee-6b0f-4a6b-dc6d-389f02e248d9"
      },
      "outputs": [
        {
          "data": {
            "text/plain": [
              "'Desarrolladora'"
            ]
          },
          "execution_count": 39,
          "metadata": {},
          "output_type": "execute_result"
        }
      ],
      "source": [
        "buscar_empleado(\"Maria Lopez\", empleados)"
      ]
    },
    {
      "cell_type": "markdown",
      "metadata": {
        "id": "BAFiQRt3xNt8"
      },
      "source": [
        "### 33- Crea una función lambda que sume elementos correspondientes de dos listas dadas."
      ]
    },
    {
      "cell_type": "code",
      "execution_count": null,
      "metadata": {
        "id": "mtu66RZ1xNt8"
      },
      "outputs": [],
      "source": [
        "sumar_lista = lambda lista_1, lista_2: list(map(lambda x, y: x + y, lista_1, lista_2))"
      ]
    },
    {
      "cell_type": "code",
      "execution_count": null,
      "metadata": {
        "id": "Hi_FZ4sYxNt8"
      },
      "outputs": [],
      "source": [
        "lista_1 = [1, 2, 3, 4]\n",
        "lista_2 = [10, 20, 30, 40]"
      ]
    },
    {
      "cell_type": "code",
      "execution_count": null,
      "metadata": {
        "id": "0g34XvDJxNt8",
        "outputId": "40424d63-7761-4bd5-afcc-a5827d88ba12"
      },
      "outputs": [
        {
          "data": {
            "text/plain": [
              "[11, 22, 33, 44]"
            ]
          },
          "execution_count": 43,
          "metadata": {},
          "output_type": "execute_result"
        }
      ],
      "source": [
        "sumar_lista(lista_1, lista_2)"
      ]
    },
    {
      "cell_type": "markdown",
      "metadata": {
        "id": "fEhexayyxNt9"
      },
      "source": [
        "### 34- Crea la clase Arbol , define un árbol genérico con un tronco y ramas como atributos. Los métodos disponibles son: *crecer_tronco* , *nueva_rama* , *crecer_ramas* , *quitar_rama e info_arbol* . El objetivo es implementar estos métodos para manipular la estructura del árbol.\n",
        "### Código a seguir:\n",
        "### 1. Inicializar un árbol con un tronco de longitud 1 y una lista vacía de ramas.\n",
        "### 2. Implementar el método crecer_tronco para aumentar la longitud del tronco en una unidad.\n",
        "### 3. Implementar el método nueva_rama para agregar una nueva rama de longitud 1 a la lista de ramas.\n",
        "### 4. Implementar el método crecer_ramas para aumentar en una unidad la longitud de todas las ramas existentes.\n",
        "### 5. Implementar el método quitar_rama para eliminar una rama en una posición específica.\n",
        "### 6. Implementar el método info_arbol para devolver información sobre la longitud del tronco, el número de ramas y las longitudes de las mismas.\n",
        "\n",
        "### Caso de uso:\n",
        "### 1. Crear un árbol.\n",
        "### 2. Hacer crecer el tronco del árbol una unidad.\n",
        "### 3. Añadir una nueva rama al árbol.\n",
        "### 4. Hacer crecer todas las ramas del árbol una unidad.\n",
        "### 5. Añadir dos nuevas ramas al árbol.\n",
        "### 6. Retirar la rama situada en la posición 2.\n",
        "### 7. Obtener información sobre el árbol.\n",
        "\n"
      ]
    },
    {
      "cell_type": "code",
      "execution_count": null,
      "metadata": {
        "id": "lnsikbykxNt9"
      },
      "outputs": [],
      "source": [
        "class Arbol:\n",
        "    def __init__(self):\n",
        "        self.tronco = 1\n",
        "        self.ramas = []\n",
        "\n",
        "\n",
        "    def crecer_tronco(self):\n",
        "        self.tronco += 1\n",
        "\n",
        "    def nueva_rama(self):\n",
        "        self.ramas.append(1)\n",
        "\n",
        "    def crecer_ramas(self):\n",
        "        self.ramas = [longitud + 1 for longitud in self.ramas]\n",
        "\n",
        "    def quitar_rama(self, posicion):\n",
        "        if 0 <= posicion < len(self.ramas):\n",
        "            self.ramas.pop(posicion)\n",
        "        else:\n",
        "            print(f\"No se puede quitar la rama: la posicion {posicion} no es válida.\")\n",
        "\n",
        "    def info_arbol(self):\n",
        "        return(f'Longitud del tronco: {self.tronco}\\n'\n",
        "               f'Número de ramas: {len(self.ramas)}\\n'\n",
        "               f'Longitudes de las ramas: {self.ramas}')\n"
      ]
    },
    {
      "cell_type": "code",
      "execution_count": null,
      "metadata": {
        "id": "v58OIhiCxNt9"
      },
      "outputs": [],
      "source": [
        "# Caso de uso:\n",
        "Carvajal = Arbol()"
      ]
    },
    {
      "cell_type": "code",
      "execution_count": null,
      "metadata": {
        "id": "ZAi7xO9bxNt9"
      },
      "outputs": [],
      "source": [
        "Carvajal.crecer_tronco()"
      ]
    },
    {
      "cell_type": "code",
      "execution_count": null,
      "metadata": {
        "id": "dLwo41h9xNt9",
        "outputId": "262fb24c-3267-4ad5-f103-4c37fb2b81fb"
      },
      "outputs": [
        {
          "data": {
            "text/plain": [
              "2"
            ]
          },
          "execution_count": 5,
          "metadata": {},
          "output_type": "execute_result"
        }
      ],
      "source": [
        "Carvajal.tronco"
      ]
    },
    {
      "cell_type": "code",
      "execution_count": null,
      "metadata": {
        "id": "kvYp30wExNt-"
      },
      "outputs": [],
      "source": [
        "Carvajal.nueva_rama()"
      ]
    },
    {
      "cell_type": "code",
      "execution_count": null,
      "metadata": {
        "id": "GKQ20n2ixNt-",
        "outputId": "c725f3d3-16af-49bb-c447-6bbc9b1263a4"
      },
      "outputs": [
        {
          "data": {
            "text/plain": [
              "[1]"
            ]
          },
          "execution_count": 7,
          "metadata": {},
          "output_type": "execute_result"
        }
      ],
      "source": [
        "Carvajal.ramas"
      ]
    },
    {
      "cell_type": "code",
      "execution_count": null,
      "metadata": {
        "id": "CEKvtdKjxNt-"
      },
      "outputs": [],
      "source": [
        "Carvajal.crecer_ramas()"
      ]
    },
    {
      "cell_type": "code",
      "execution_count": null,
      "metadata": {
        "id": "ZWVHNlHYxNt-"
      },
      "outputs": [],
      "source": [
        "Carvajal.nueva_rama()\n",
        "Carvajal.nueva_rama()"
      ]
    },
    {
      "cell_type": "code",
      "execution_count": null,
      "metadata": {
        "id": "8-DD6vrOxNt-",
        "outputId": "883f6aa8-b30e-4e49-a84c-be9e8847875a"
      },
      "outputs": [
        {
          "data": {
            "text/plain": [
              "[2, 1, 1]"
            ]
          },
          "execution_count": 13,
          "metadata": {},
          "output_type": "execute_result"
        }
      ],
      "source": [
        "Carvajal.ramas"
      ]
    },
    {
      "cell_type": "code",
      "execution_count": null,
      "metadata": {
        "id": "jXOPbj5wxNt-"
      },
      "outputs": [],
      "source": [
        "Carvajal.quitar_rama(2)"
      ]
    },
    {
      "cell_type": "code",
      "execution_count": null,
      "metadata": {
        "id": "QqDdusmgxNt_",
        "outputId": "f89d2a4d-322a-403e-9aea-b36cbaeffa86"
      },
      "outputs": [
        {
          "data": {
            "text/plain": [
              "[2, 1]"
            ]
          },
          "execution_count": 15,
          "metadata": {},
          "output_type": "execute_result"
        }
      ],
      "source": [
        "Carvajal.ramas"
      ]
    },
    {
      "cell_type": "code",
      "execution_count": null,
      "metadata": {
        "id": "0sKqnAD3xNt_",
        "outputId": "9790a462-b3a1-4564-a9d2-b51074268359"
      },
      "outputs": [
        {
          "name": "stdout",
          "output_type": "stream",
          "text": [
            "Longitud del tronco: 2\n",
            "Número de ramas: 2\n",
            "Longitudes de las ramas: [2, 1]\n"
          ]
        }
      ],
      "source": [
        "print(Carvajal.info_arbol())"
      ]
    },
    {
      "cell_type": "markdown",
      "metadata": {
        "id": "L_en3_7UxNt_"
      },
      "source": [
        "### 36- Crea la clase UsuarioBanco ,representa a un usuario de un banco con su nombre, saldo y si tiene o no cuenta corriente. Proporciona métodos para realizar operaciones como retirar dinero, transferir dinero desde otro usuario y agregar dinero al saldo.\n",
        "### Código a seguir:\n",
        "### 1- Inicializar un usuario con su nombre, saldo y si tiene o no cuenta corriente mediante True y False .\n",
        "### 2- Implementar el método retirar_dinero para retirar dinero del saldo del usuario. Lanzará un error en caso de no poder hacerse.\n",
        "### 3- Implementar el método transferir_dinero para realizar una transferencia desde otro usuario al usuario actual. Lanzará un error en caso de no poder hacerse.\n",
        "### 4- Implementar el método agregar_dinero para agregar dinero al saldo del usuario.\n",
        "### Caso de uso:\n",
        "### 1- Crear dos usuarios: \"Alicia\" con saldo inicial de 100 y \"Bob\" con saldo inicial de 50, ambos con cuenta corriente.\n",
        "### 2- Agregar 20 unidades de saldo de \"Bob\".\n",
        "### 3- Hacer una transferencia de 80 unidades desde \"Bob\" a \"Alicia\".\n",
        "### 4- Retirar 50 unidades de saldo a \"Alicia\".\n",
        "\n"
      ]
    },
    {
      "cell_type": "code",
      "execution_count": null,
      "metadata": {
        "id": "yzH0kazgxNt_"
      },
      "outputs": [],
      "source": [
        "class UsuarioBanco:\n",
        "    def __init__(self, nombre, saldo, cuenta_corriente):\n",
        "        self.nombre = nombre\n",
        "        self.saldo = saldo\n",
        "        self.cuenta_corriente = cuenta_corriente\n",
        "\n",
        "    def retirar_dinero(self, cantidad):\n",
        "        if cantidad > self.saldo:\n",
        "            raise ValueError (\"ERROR, fondos insuficientes para retirar\")\n",
        "        self.saldo -= cantidad\n",
        "        return f\"{self.nombre}, ha retirado {cantidad}, saldo restante: {self.saldo}\"\n",
        "\n",
        "    def transferir_dinero(self, otro_usuario, cantidad):\n",
        "        if cantidad > otro_usuario.saldo:\n",
        "            raise ValueError (\"ERROR, fondos insuficientes para retirar\")\n",
        "        otro_usuario.saldo -= cantidad\n",
        "        self.saldo += cantidad\n",
        "        return f\"{otro_usuario.nombre}, ha transferido {cantidad} a {self.nombre}, nuevo saldo: {self.saldo}\"\n",
        "\n",
        "    def agregar_dinero(self, cantidad):\n",
        "        self.saldo += cantidad\n",
        "        return f\"Se ha sumado {cantidad} al saldo de {self.nombre}, saldo actual: {self.saldo}\""
      ]
    },
    {
      "cell_type": "code",
      "execution_count": null,
      "metadata": {
        "id": "WS4VrKTDxNt_"
      },
      "outputs": [],
      "source": [
        "alicia = UsuarioBanco(\"Alicia\", 100, True)\n",
        "bob = UsuarioBanco(\"Bob\", 50, True)"
      ]
    },
    {
      "cell_type": "code",
      "execution_count": null,
      "metadata": {
        "id": "f7vgrC7gxNuA",
        "outputId": "5df81f0f-75d7-4c66-b7d7-04899984807e"
      },
      "outputs": [
        {
          "data": {
            "text/plain": [
              "'Se ha sumado 20 al saldo de Bob, saldo actual: 70'"
            ]
          },
          "execution_count": 46,
          "metadata": {},
          "output_type": "execute_result"
        }
      ],
      "source": [
        "bob.agregar_dinero(20)"
      ]
    },
    {
      "cell_type": "code",
      "execution_count": null,
      "metadata": {
        "id": "XA18M0NRxNuA",
        "outputId": "07e6c012-8dce-4b25-f8dd-f84768af7382"
      },
      "outputs": [
        {
          "data": {
            "text/plain": [
              "'Alicia, ha transferido 80 a Bob, nuevo saldo: 150'"
            ]
          },
          "execution_count": 48,
          "metadata": {},
          "output_type": "execute_result"
        }
      ],
      "source": [
        "bob.transferir_dinero(alicia, 80)"
      ]
    },
    {
      "cell_type": "code",
      "execution_count": null,
      "metadata": {
        "id": "aJVnoI5FxNuA",
        "outputId": "b6fe35cc-4909-47d6-d4e5-5abbb3c06ce8"
      },
      "outputs": [
        {
          "data": {
            "text/plain": [
              "'Alicia, ha retirado 20, saldo restante: 0'"
            ]
          },
          "execution_count": 50,
          "metadata": {},
          "output_type": "execute_result"
        }
      ],
      "source": [
        "alicia.retirar_dinero(20)"
      ]
    },
    {
      "cell_type": "markdown",
      "metadata": {
        "id": "vcy1sic1xNuA"
      },
      "source": [
        "### 37- Crea una función llamada procesar_texto que procesa un texto según la opción especificada: contar_palabras , reemplazar_palabras , eliminar_palabra . Estas opciones son otras funciones que tenemos que definir primero y llamar dentro de la función procesar_texto .\n",
        "### Código a seguir:\n",
        "### 1- Crear una función contar_palabras para contar el número de veces que aparece cada palabra en el texto. Tiene que devolver un diccionario.\n",
        "###  2- Crear una función reemplazar_palabras para remplazar una palabra_original del texto por una palabra_nueva . Tiene que devolver el texto con el remplazo de palabras.\n",
        "### 3- Crear una función eliminar_palabra para eliminar una palabra del texto. Tiene que devolver el texto con la palabra eliminada.\n",
        "### 4- Crear la función procesar_texto que tome un texto, una opción(entre \"contar\", \"reemplazar\", \"eliminar\") y un número de argumentos variable según la opción indicada.\n",
        "### Caso de uso: Comprueba el funcionamiento completo de la función procesar_texto"
      ]
    },
    {
      "cell_type": "code",
      "execution_count": null,
      "metadata": {
        "id": "XGZk_8O1xNuA"
      },
      "outputs": [],
      "source": [
        "from collections import Counter\n",
        "\n",
        "def contar_palabras(texto):\n",
        "    palabras = texto.lower().split()\n",
        "    return dict(Counter(palabras))\n",
        "\n",
        "def reemplazar_palabras(texto, palabra_original, palabra_nueva):\n",
        "    return texto.replace(palabra_original, palabra_nueva)\n",
        "\n",
        "def eliminar_palabra(texto, palabra_eliminada):\n",
        "    palabras = texto.split()\n",
        "    palabras_filtro = [palabra for palabra in palabras if palabra != palabra_eliminada]\n",
        "    return \" \".join(palabras_filtro)\n",
        "\n",
        "\n",
        "def procesar_texto(texto, opcion, *args):\n",
        "    if opcion == \"contar\":\n",
        "        return contar_palabras(texto)\n",
        "    elif opcion == \"reemplazar\" and len(args) == 2:\n",
        "        return reemplazar_palabras(texto, args[0], args[1])\n",
        "    elif opcion == \"eliminar\" and len(args) == 1:\n",
        "        return eliminar_palabra(texto, args[0])\n",
        "    else:\n",
        "        raise ValueError (\"ERROR, opción no válida, por favor use contar, reemplazar o eliminar\")\n",
        ""
      ]
    },
    {
      "cell_type": "code",
      "execution_count": null,
      "metadata": {
        "id": "9EN31prRxNuB"
      },
      "outputs": [],
      "source": [
        "texto = \"Python es un lenguaje de programación muy popular. Python es utilizado para desarrollo web, ciencia de datos, inteligencia artificial y más. Muchos desarrolladores prefieren Python por su simplicidad y versatilidad.\""
      ]
    },
    {
      "cell_type": "code",
      "execution_count": null,
      "metadata": {
        "id": "-x3WTvlsxNuB",
        "outputId": "2ec2c697-9ef1-413c-f168-b85774c66508"
      },
      "outputs": [
        {
          "data": {
            "text/plain": [
              "{'python': 3,\n",
              " 'es': 2,\n",
              " 'un': 1,\n",
              " 'lenguaje': 1,\n",
              " 'de': 2,\n",
              " 'programación': 1,\n",
              " 'muy': 1,\n",
              " 'popular.': 1,\n",
              " 'utilizado': 1,\n",
              " 'para': 1,\n",
              " 'desarrollo': 1,\n",
              " 'web,': 1,\n",
              " 'ciencia': 1,\n",
              " 'datos,': 1,\n",
              " 'inteligencia': 1,\n",
              " 'artificial': 1,\n",
              " 'y': 2,\n",
              " 'más.': 1,\n",
              " 'muchos': 1,\n",
              " 'desarrolladores': 1,\n",
              " 'prefieren': 1,\n",
              " 'por': 1,\n",
              " 'su': 1,\n",
              " 'simplicidad': 1,\n",
              " 'versatilidad.': 1}"
            ]
          },
          "execution_count": 17,
          "metadata": {},
          "output_type": "execute_result"
        }
      ],
      "source": [
        "procesar_texto(texto, \"contar\")"
      ]
    },
    {
      "cell_type": "code",
      "execution_count": null,
      "metadata": {
        "id": "LhegKgs-xNuB",
        "outputId": "3ae31373-6671-4499-9894-c1545d9f1a25"
      },
      "outputs": [
        {
          "data": {
            "text/plain": [
              "'Java es un lenguaje de programación muy popular. Java es utilizado para desarrollo web, ciencia de datos, inteligencia artificial y más. Muchos desarrolladores prefieren Java por su simplicidad y versatilidad.'"
            ]
          },
          "execution_count": 18,
          "metadata": {},
          "output_type": "execute_result"
        }
      ],
      "source": [
        "procesar_texto(texto, \"reemplazar\", \"Python\", \"Java\")"
      ]
    },
    {
      "cell_type": "code",
      "execution_count": null,
      "metadata": {
        "id": "9BJ5aq1yxNuB",
        "outputId": "8d513600-bc3f-4725-cee0-7d0b836606cb"
      },
      "outputs": [
        {
          "data": {
            "text/plain": [
              "'es un lenguaje de programación muy popular. es utilizado para desarrollo web, ciencia de datos, inteligencia artificial y más. Muchos desarrolladores prefieren por su simplicidad y versatilidad.'"
            ]
          },
          "execution_count": 19,
          "metadata": {},
          "output_type": "execute_result"
        }
      ],
      "source": [
        "procesar_texto(texto, \"eliminar\", \"Python\")"
      ]
    },
    {
      "cell_type": "code",
      "execution_count": null,
      "metadata": {
        "id": "O1d6erXyxNuB",
        "outputId": "6fd221d9-98e4-4d2e-8c90-63431094b0c9"
      },
      "outputs": [
        {
          "ename": "ValueError",
          "evalue": "ERROR, opción no válida, por favor use contar, reemplazar o eliminar",
          "output_type": "error",
          "traceback": [
            "\u001b[1;31m---------------------------------------------------------------------------\u001b[0m",
            "\u001b[1;31mValueError\u001b[0m                                Traceback (most recent call last)",
            "Cell \u001b[1;32mIn[20], line 1\u001b[0m\n\u001b[1;32m----> 1\u001b[0m \u001b[43mprocesar_texto\u001b[49m\u001b[43m(\u001b[49m\u001b[43mtexto\u001b[49m\u001b[43m,\u001b[49m\u001b[43m \u001b[49m\u001b[38;5;124;43m\"\u001b[39;49m\u001b[38;5;124;43mcontar_palabra\u001b[39;49m\u001b[38;5;124;43m\"\u001b[39;49m\u001b[43m)\u001b[49m\n",
            "Cell \u001b[1;32mIn[16], line 24\u001b[0m, in \u001b[0;36mprocesar_texto\u001b[1;34m(texto, opcion, *args)\u001b[0m\n\u001b[0;32m     22\u001b[0m     \u001b[38;5;28;01mreturn\u001b[39;00m eliminar_palabra(texto, args[\u001b[38;5;241m0\u001b[39m])\n\u001b[0;32m     23\u001b[0m \u001b[38;5;28;01melse\u001b[39;00m:\n\u001b[1;32m---> 24\u001b[0m     \u001b[38;5;28;01mraise\u001b[39;00m \u001b[38;5;167;01mValueError\u001b[39;00m (\u001b[38;5;124m\"\u001b[39m\u001b[38;5;124mERROR, opción no válida, por favor use contar, reemplazar o eliminar\u001b[39m\u001b[38;5;124m\"\u001b[39m)\n",
            "\u001b[1;31mValueError\u001b[0m: ERROR, opción no válida, por favor use contar, reemplazar o eliminar"
          ]
        }
      ],
      "source": [
        "procesar_texto(texto, \"contar_palabra\")"
      ]
    },
    {
      "cell_type": "markdown",
      "metadata": {
        "id": "V1krVcqIxNuC"
      },
      "source": [
        "### 38. Genera un programa que nos diga si es de noche, de día o tarde según la hora proporcionada por el usuario."
      ]
    },
    {
      "cell_type": "code",
      "execution_count": null,
      "metadata": {
        "id": "up-fTJuQxNuC"
      },
      "outputs": [],
      "source": [
        "def determinar_momento_dia(hora):\n",
        "    if (0 <= hora <= 5) or (hora >= 20):\n",
        "        return \"Noche\"\n",
        "    elif (6 <= hora < 12):\n",
        "        return \"Día\"\n",
        "    elif (12 <= hora < 20):\n",
        "        return \"Tarde\"\n",
        "    else:\n",
        "        return \"Hora inválida\""
      ]
    },
    {
      "cell_type": "code",
      "execution_count": null,
      "metadata": {
        "id": "bcH3807lxNuC",
        "outputId": "a79a8260-fa89-4a41-c58c-800dfb7fe3eb"
      },
      "outputs": [
        {
          "name": "stdout",
          "output_type": "stream",
          "text": [
            "Es tarde según la hora proporcionada.\n"
          ]
        }
      ],
      "source": [
        "while True:\n",
        "    try:\n",
        "        hora_usuario = int(input(\"Introduzca la hora (0-23): \"))\n",
        "        if 0 <= hora_usuario <= 23:\n",
        "            resultado = determinar_momento_dia(hora_usuario)\n",
        "            print(f\"Es {resultado.lower()} según la hora proporcionada.\")\n",
        "            break\n",
        "        else:\n",
        "            print(\"Por favor, introduce un número entre 0 y 23.\")\n",
        "    except ValueError:\n",
        "        print(\"Error, por favor, introduce un número entero válido.\")"
      ]
    },
    {
      "cell_type": "markdown",
      "metadata": {
        "id": "bmyRhp_LxNuC"
      },
      "source": [
        "### 39- Escribe un programa que determine qué calificación en texto tiene un alumno en base a su calificación numérica. Las reglas de calificación son:  0-69 insuficiente, 70-79 bien, 80-89 muy bien y 90-100 excelente"
      ]
    },
    {
      "cell_type": "code",
      "execution_count": null,
      "metadata": {
        "id": "KH6snymuxNuC"
      },
      "outputs": [],
      "source": [
        "def calificacionAlumno():\n",
        "    calificacion = int(input(\"Introduzca la calificación del alumno: \"))\n",
        "    if 0 <= calificacion < 70:\n",
        "        return \"Insuficiente\"\n",
        "    elif 70 <= calificacion < 80:\n",
        "        return \"Bien\"\n",
        "    elif 80 <= calificacion < 90:\n",
        "        return \"Muy Bien\"\n",
        "    elif 90 <= calificacion < 101:\n",
        "        return \"Excelente\"\n",
        "    else:\n",
        "        return \"Introduzca un número del 0 al 100\""
      ]
    },
    {
      "cell_type": "code",
      "execution_count": null,
      "metadata": {
        "id": "5qcC2lWuxNuD",
        "outputId": "cb95fe6a-181f-4a97-bd1f-d0c6683b2c93"
      },
      "outputs": [
        {
          "data": {
            "text/plain": [
              "'Muy Bien'"
            ]
          },
          "execution_count": 12,
          "metadata": {},
          "output_type": "execute_result"
        }
      ],
      "source": [
        "calificacionAlumno()"
      ]
    },
    {
      "cell_type": "code",
      "execution_count": null,
      "metadata": {
        "id": "nO2TH-EVxNuD",
        "outputId": "f3697d94-fcba-452c-ec38-68def5322d94"
      },
      "outputs": [
        {
          "data": {
            "text/plain": [
              "'Bien'"
            ]
          },
          "execution_count": 10,
          "metadata": {},
          "output_type": "execute_result"
        }
      ],
      "source": [
        "calificacionAlumno()"
      ]
    },
    {
      "cell_type": "code",
      "execution_count": null,
      "metadata": {
        "id": "8cGLC24XxNuD",
        "outputId": "32e35ac6-6090-4c9c-d002-4b15bf31056e"
      },
      "outputs": [
        {
          "data": {
            "text/plain": [
              "'Excelente'"
            ]
          },
          "execution_count": 11,
          "metadata": {},
          "output_type": "execute_result"
        }
      ],
      "source": [
        "calificacionAlumno()"
      ]
    },
    {
      "cell_type": "code",
      "execution_count": null,
      "metadata": {
        "id": "KqfgXXYAxNuD",
        "outputId": "6b7e1f61-8670-4dae-c503-e9333ee0d2b6"
      },
      "outputs": [
        {
          "data": {
            "text/plain": [
              "'Introduzca un número del 0 al 100'"
            ]
          },
          "execution_count": 9,
          "metadata": {},
          "output_type": "execute_result"
        }
      ],
      "source": [
        "calificacionAlumno()"
      ]
    },
    {
      "cell_type": "markdown",
      "metadata": {
        "id": "zXLPSTrhxNuE"
      },
      "source": [
        "### 40- Escribe una función que tome dos parámetros: figura (una cadena que puede ser \"rectangulo\" , \"circulo\" o \"triangulo\" ) y datos (una tupla con los datos necesarios para calcular el área de la figura).\n"
      ]
    },
    {
      "cell_type": "code",
      "execution_count": null,
      "metadata": {
        "id": "jhkNDYZOxNuE"
      },
      "outputs": [],
      "source": [
        "import math\n",
        "\n",
        "def calcular_area(figura, datos):\n",
        "    figura = figura.lower()\n",
        "    if figura == \"rectangulo\":\n",
        "        if len(datos) == 2:\n",
        "            base, altura = datos\n",
        "            return base * altura\n",
        "        else:\n",
        "            raise ValueError(\"Para un rectángulo se necesitan 2 valores: base y altura.\")\n",
        "\n",
        "    elif figura == \"circulo\":\n",
        "        if len(datos) == 1:\n",
        "            radio = datos[0]\n",
        "            return math.pi * radio ** 2\n",
        "        else:\n",
        "            raise ValueError(\"Para un círculo se necesita 1 valor: radio.\")\n",
        "\n",
        "    elif figura == \"triangulo\":\n",
        "        if len(datos) == 2:\n",
        "            base, altura = datos\n",
        "            return (base * altura) / 2\n",
        "\n",
        "        else:\n",
        "            raise ValueError(\"Para un triángulo se necesitan 2 valor: base y altura.\")\n",
        "\n",
        "    else:\n",
        "        raise ValueError(\"Figura no reconocida. Utiliza 'rectangulo', 'circulo' o 'triangulo'.\")\n",
        "\n",
        "\n",
        ""
      ]
    },
    {
      "cell_type": "code",
      "execution_count": null,
      "metadata": {
        "id": "dn0DmagtxNuE",
        "outputId": "ecacacc0-8058-48ed-db14-8a9b6f7f2871"
      },
      "outputs": [
        {
          "name": "stdout",
          "output_type": "stream",
          "text": [
            "15\n"
          ]
        }
      ],
      "source": [
        "print(calcular_area(\"rectangulo\",(3,5)))"
      ]
    },
    {
      "cell_type": "code",
      "execution_count": null,
      "metadata": {
        "id": "wJET20WuxNuE",
        "outputId": "c145efc2-6e85-46a6-b707-83d84e829080"
      },
      "outputs": [
        {
          "name": "stdout",
          "output_type": "stream",
          "text": [
            "153.93804002589985\n"
          ]
        }
      ],
      "source": [
        "print(calcular_area(\"circulo\",(7,)))"
      ]
    },
    {
      "cell_type": "code",
      "execution_count": null,
      "metadata": {
        "id": "fVdQDPXGxNuF",
        "outputId": "3d345cea-231f-4991-c8b0-89c66279af85"
      },
      "outputs": [
        {
          "name": "stdout",
          "output_type": "stream",
          "text": [
            "21.0\n"
          ]
        }
      ],
      "source": [
        "print(calcular_area(\"triangulo\",(6,7)))"
      ]
    },
    {
      "cell_type": "code",
      "execution_count": null,
      "metadata": {
        "id": "WlRJbVvIxNuF",
        "outputId": "e67bbe65-7a40-46ac-82ac-b6a1b3424001"
      },
      "outputs": [
        {
          "ename": "ValueError",
          "evalue": "Figura no reconocida. Utiliza 'rectangulo', 'circulo' o 'triangulo'.",
          "output_type": "error",
          "traceback": [
            "\u001b[1;31m---------------------------------------------------------------------------\u001b[0m",
            "\u001b[1;31mValueError\u001b[0m                                Traceback (most recent call last)",
            "Cell \u001b[1;32mIn[9], line 1\u001b[0m\n\u001b[1;32m----> 1\u001b[0m \u001b[38;5;28mprint\u001b[39m(\u001b[43mcalcular_area\u001b[49m\u001b[43m(\u001b[49m\u001b[38;5;124;43m\"\u001b[39;49m\u001b[38;5;124;43mPentagono\u001b[39;49m\u001b[38;5;124;43m\"\u001b[39;49m\u001b[43m,\u001b[49m\u001b[43m(\u001b[49m\u001b[38;5;241;43m3\u001b[39;49m\u001b[43m,\u001b[49m\u001b[38;5;241;43m5\u001b[39;49m\u001b[43m)\u001b[49m\u001b[43m)\u001b[49m)\n",
            "Cell \u001b[1;32mIn[7], line 28\u001b[0m, in \u001b[0;36mcalcular_area\u001b[1;34m(figura, datos)\u001b[0m\n\u001b[0;32m     25\u001b[0m         \u001b[38;5;28;01mraise\u001b[39;00m \u001b[38;5;167;01mValueError\u001b[39;00m(\u001b[38;5;124m\"\u001b[39m\u001b[38;5;124mPara un triángulo se necesitan 2 valor: base y altura.\u001b[39m\u001b[38;5;124m\"\u001b[39m)\n\u001b[0;32m     27\u001b[0m \u001b[38;5;28;01melse\u001b[39;00m:\n\u001b[1;32m---> 28\u001b[0m     \u001b[38;5;28;01mraise\u001b[39;00m \u001b[38;5;167;01mValueError\u001b[39;00m(\u001b[38;5;124m\"\u001b[39m\u001b[38;5;124mFigura no reconocida. Utiliza \u001b[39m\u001b[38;5;124m'\u001b[39m\u001b[38;5;124mrectangulo\u001b[39m\u001b[38;5;124m'\u001b[39m\u001b[38;5;124m, \u001b[39m\u001b[38;5;124m'\u001b[39m\u001b[38;5;124mcirculo\u001b[39m\u001b[38;5;124m'\u001b[39m\u001b[38;5;124m o \u001b[39m\u001b[38;5;124m'\u001b[39m\u001b[38;5;124mtriangulo\u001b[39m\u001b[38;5;124m'\u001b[39m\u001b[38;5;124m.\u001b[39m\u001b[38;5;124m\"\u001b[39m)\n",
            "\u001b[1;31mValueError\u001b[0m: Figura no reconocida. Utiliza 'rectangulo', 'circulo' o 'triangulo'."
          ]
        }
      ],
      "source": [
        "print(calcular_area(\"Pentagono\",(3,5)))"
      ]
    },
    {
      "cell_type": "markdown",
      "metadata": {
        "id": "0qk7bwurxNuF"
      },
      "source": [
        "### 41- En este ejercicio, se te pedirá que escribas un programa en Python que utilice condicionales para determinar el monto final de una compra en una tienda en línea, después de aplicar un descuento. El programa debe hacer lo siguiente:\n",
        "### 1. Solicita al usuario que ingrese el precio original de un artículo.\n",
        "### 2. Pregunta al usuario si tiene un cupón de descuento (respuesta sí o no).\n",
        "### 3. Si el usuario responde que sí, solicita que ingrese el valor del cupón de descuento.\n",
        "### 4. Aplica el descuento al precio original del artículo, siempre y cuando el valor del cupón sea válido (es decir, mayor a cero). Por ejemplo, descuento de 15€.\n",
        "### 5. Muestra el precio final de la compra, teniendo en cuenta el descuento aplicado o sin él.\n",
        "### 6. Recuerda utilizar estructuras de control de flujo como if, elif y else para llevar a cabo estas acciones en tu programa de Python."
      ]
    },
    {
      "cell_type": "code",
      "execution_count": null,
      "metadata": {
        "id": "rGA-zA61xNuF"
      },
      "outputs": [],
      "source": [
        "def tiendaOnline():\n",
        "    # Validamos la entrada del precio original\n",
        "    while True:\n",
        "        try:\n",
        "            precio_original = int(input(\"Por favor, introduzca el precio original del artículo: \"))\n",
        "            if precio_original > 0:\n",
        "                break\n",
        "            else:\n",
        "                print(\"ERROR, el precio debe ser mayor que 0.\")\n",
        "        except ValueError:\n",
        "           print(\"ERROR, Por favor, introduzca un número válido.\")\n",
        "\n",
        "    # Validar si tiene cupón\n",
        "    while True:\n",
        "        try:\n",
        "            cupon_desc = int(input(\"¿Tiene cupón de descuento?(1-si / 2-no): \"))\n",
        "            if cupon_desc in [1, 2]:\n",
        "               break\n",
        "            else:\n",
        "                print(\"Error: Por favor, introduzca 1 o 2.\")\n",
        "        except ValueError:\n",
        "            print(\"ERROR, introduzca un número valido (1 o 2)\")\n",
        "\n",
        "    # Comprobamos que en caso de tener cupón lo introduca de manera correcta\n",
        "    if cupon_desc == 1:\n",
        "        while True:\n",
        "            try:\n",
        "                valor_cupon= int(input(\"Ingrese el valor del cupón descuento: \"))\n",
        "                if 0 <= valor_cupon <= precio_original:\n",
        "                    precio_con_descuento = precio_original - valor_cupon\n",
        "                    break\n",
        "                else:\n",
        "                    print(f\"ERROR, el cupón debe tener un valor entre 0 y {precio_original}\")\n",
        "            except ValueError:\n",
        "                print(\"ERROR, introduzca un número válido\")\n",
        "\n",
        "    else:\n",
        "        print(\"Una lastima que no tenga cupón descuento\")\n",
        "        precio_con_descuento = precio_original\n",
        "\n",
        "    print(f\"--- Muchas gracias por su compra!!! ---\\nEl precio final de la compra es: {precio_original}€\")\n",
        "    if cupon_desc == 1:\n",
        "        print(f\"El precio final de la compra con descuento es: {precio_con_descuento}€\")\n",
        "\n",
        "    return\n",
        "\n"
      ]
    },
    {
      "cell_type": "code",
      "execution_count": null,
      "metadata": {
        "id": "cxRivEiNxNuG",
        "outputId": "6eebf698-8026-489a-88c8-de633d67c1e5"
      },
      "outputs": [
        {
          "name": "stdout",
          "output_type": "stream",
          "text": [
            "--- Muchas gracias por su compra!!! ---\n",
            "El precio final de la compra es: 120€\n",
            "El precio final de la compra con descuento es: 100€\n"
          ]
        }
      ],
      "source": [
        "# Ejemplos de uso\n",
        "tiendaOnline()"
      ]
    },
    {
      "cell_type": "code",
      "execution_count": null,
      "metadata": {
        "id": "ytWteVRvxNuG",
        "outputId": "75ef5fb2-c268-45ab-ad6d-e3d9ae5d36f9"
      },
      "outputs": [
        {
          "name": "stdout",
          "output_type": "stream",
          "text": [
            "Una lastima que no tenga cupón descuento\n",
            "--- Muchas gracias por su compra!!! ---\n",
            "El precio final de la compra es: 200€\n"
          ]
        }
      ],
      "source": [
        "tiendaOnline()"
      ]
    }
  ],
  "metadata": {
    "kernelspec": {
      "display_name": "Python 3",
      "language": "python",
      "name": "python3"
    },
    "language_info": {
      "codemirror_mode": {
        "name": "ipython",
        "version": 3
      },
      "file_extension": ".py",
      "mimetype": "text/x-python",
      "name": "python",
      "nbconvert_exporter": "python",
      "pygments_lexer": "ipython3",
      "version": "3.10.11"
    },
    "colab": {
      "provenance": []
    }
  },
  "nbformat": 4,
  "nbformat_minor": 0
}